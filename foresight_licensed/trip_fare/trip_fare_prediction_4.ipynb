{
 "cells": [
  {
   "cell_type": "markdown",
   "id": "93f77938-7669-4c71-aabe-49ecd7316e2e",
   "metadata": {
    "tags": []
   },
   "source": [
    "***\n",
    "\n",
    "# Taxi Trip Fare Prediction - Scheduled DAG\n",
    "\n",
    "***\n",
    "\n",
    "The objective of this example is to leverage the Schedule DAG functionality to train and deploy a taxi trip fare prediction model. This functionality streamlines the entire process, including featureset creation, handling contextual features, creating datasets, and conducting training autonomously once the scheduled task is initiated. We will execute the Model 2 example using jobs scheduled by a DAG. As in the Model 2 example, we will\n",
    "- create the training dataset using contextual features\n",
    "- train an ML model based on historical taxi trip fare data and contextual features\n",
    "- serve the ML model to predict the trip fare for new trips\n",
    "\n"
   ]
  },
  {
   "cell_type": "markdown",
   "id": "976afc32-8c6f-4e66-a4fc-819d702f7b2a",
   "metadata": {
    "jp-MarkdownHeadingCollapsed": true,
    "tags": []
   },
   "source": [
    "***\n",
    "\n",
    "**We will use the `trip_fare_dag` project for this example.**"
   ]
  },
  {
   "cell_type": "code",
   "execution_count": null,
   "id": "5d7dabf3-4c67-4a7a-9ae4-9b7832c29bd1",
   "metadata": {
    "tags": []
   },
   "outputs": [],
   "source": [
    "create project trip_fare_dag"
   ]
  },
  {
   "cell_type": "markdown",
   "id": "1664147e-01c5-4fd6-9ffe-1c1fffed8238",
   "metadata": {
    "tags": []
   },
   "source": [
    "***\n",
    "\n",
    "# Connect your Data Sources\n",
    "\n",
    "<html><img src=\"../../images/trip_fare_images/2_1.png\"/></html>\n",
    "\n",
    "In the Model 2 example we have connected the S3 bucket as a data source to Foresight for the trip table. Similarly in this step we will connect the S3 bucket as a data source to Foresight for the three contextual feature tables."
   ]
  },
  {
   "cell_type": "markdown",
   "id": "16f0afe6-4d93-4a30-91c2-f464486c1a75",
   "metadata": {
    "tags": []
   },
   "source": [
    "### Create a Foresight ML sources file\n",
    "\n",
    "Foresight establishes connections with data sources through a Foresight ML sources file. In the Model 2 example, we generated a Foresight ML sources file to connect the S3 bucket to the Foresight platform, enabling access to the trip table. Additionally, we created another Foresight ML sources file to incorporate three new contextual feature sources. These same files will be employed in this example.\n",
    "Use the templates and code snippets available at the icons to the left. Refer to the Foresight User Manual for help.\n",
    "Alternatively you may use the Foresight ML sources file from this tutorial.\n",
    "\n",
    "<br> The relevant sections in the `trip_fare_2_data_sources.yml` file look like this:\n",
    "    \n",
    "            meta:\n",
    "              source_type: aws\n",
    "              source_format: csv\n",
    "              path: s3a://foresight-tutorial/trip_fare/<table_name>.csv         <<<<                \n",
    "              anon: true                                                              \n",
    "              infer_schema: true                                                      \n",
    "              header: true                                                            \n",
    "              delimiter: ','                                                          \n",
    "              s3_endpoint_url: https://foresight-tutorial.s3.us-west-2.amazonaws.com  \n",
    "              batch_schedule: -1d"
   ]
  },
  {
   "cell_type": "code",
   "execution_count": null,
   "id": "977e3b7f-280f-435f-912f-c26f11feccf3",
   "metadata": {
    "tags": []
   },
   "outputs": [],
   "source": [
    "!cat trip_fare_prediction_model_2/trip_fare_2_data_sources.yml"
   ]
  },
  {
   "cell_type": "markdown",
   "id": "6066afe9-cf7f-4ef5-a948-755ff6afbf16",
   "metadata": {},
   "source": [
    "#### Add column schema to your data sources file\n",
    "\n",
    "Foresight can automatically infer column schema from your data sources and update the ML sources file. Use the `add columns` command to automatically infer and update the ML sources file with the data source column schema. After this command completes, you must review the column schema for correctness and if necessary edit the ML sources file to fix column names or data types. Alternatively you may manually edit the ML sources file and add all the column names and data types to match your data source schema."
   ]
  },
  {
   "cell_type": "code",
   "execution_count": null,
   "id": "09d1f5de-35c2-4e16-8682-c6ed4d3934d1",
   "metadata": {
    "tags": []
   },
   "outputs": [],
   "source": [
    "add columns trip_fare_prediction_model_2/trip_fare_2_data_sources.yml"
   ]
  },
  {
   "cell_type": "code",
   "execution_count": null,
   "id": "ac2af91a-d437-4904-9cdc-a67bf89b4736",
   "metadata": {
    "tags": []
   },
   "outputs": [],
   "source": [
    "!cat trip_fare_prediction_model_2/trip_fare_2_data_sources.yml"
   ]
  },
  {
   "cell_type": "markdown",
   "id": "37fd763f-c868-4a41-8377-c35eaefa66a7",
   "metadata": {
    "tags": []
   },
   "source": [
    "## Schedule Dataset Generation and Model Training\n",
    "\n",
    "<html><img src=\"../../images/trip_fare_images/4_1.png\"/></html>\n",
    "\n",
    "\n",
    "The Scheduled DAG feature allows users to schedule jobs for each stage of the machine learning pipeline. Users can define when specific tasks, such as featureset updates, dataset generation, or model retraining, should run. This level of automation optimizes resource utilization and ensures that models are regularly retrained with the new data, enhancing their accuracy and relevance.\n",
    " \n",
    "Jobs that must be scheduled are defined in a DAG JSON file. The JSON file lists the jobs that need to be run and the dependencies between the jobs. There are parameters to control the periodic execution of jobs.\n",
    "\n"
   ]
  },
  {
   "cell_type": "markdown",
   "id": "ffd86f1e-62a5-4ea9-9925-c384ea5d7e19",
   "metadata": {},
   "source": [
    "The following DAG JSON file contains jobs for the creation of featuresets, featureviews, a training dataset and the training of a model."
   ]
  },
  {
   "cell_type": "code",
   "execution_count": null,
   "id": "927b66a4-4ec0-4161-b5c1-1670cabddc5d",
   "metadata": {
    "tags": []
   },
   "outputs": [],
   "source": [
    "!cat trip_fare_dag/trip_fare_training_dag.json"
   ]
  },
  {
   "cell_type": "markdown",
   "id": "dc65043f-aba2-4cde-a200-85e0eb55261c",
   "metadata": {},
   "source": [
    "## Scheduling the DAG\n",
    "The **schedule** DAG command schedules a DAG JSON file for execution based on the parameters in the file.\n",
    "In this example we will reuse the job files from the Model 2 example."
   ]
  },
  {
   "cell_type": "code",
   "execution_count": null,
   "id": "3da120e3-41dd-4bab-a5ff-9d19352c526e",
   "metadata": {},
   "outputs": [],
   "source": [
    "schedule dag trip_fare_dag/trip_fare_training_dag.json"
   ]
  },
  {
   "cell_type": "markdown",
   "id": "eab1409d-d932-481f-ae49-5538b62a6720",
   "metadata": {},
   "source": [
    "The **status** DAG command provides the current status of the DAG and each individual task mentioned in the JSON file. For tasks that have been initiated, it returns their current status. If a job has started, it indicates its ongoing status. If a particular job is in a waiting state, waiting for its parent job to complete, the status will be reported as \"job not found\" until it starts. This command helps to monitor the progression of DAG and the status of each task within it."
   ]
  },
  {
   "cell_type": "markdown",
   "id": "dbe31f5d-3d70-4d8e-a298-7b7cc8f5f8da",
   "metadata": {
    "tags": []
   },
   "source": [
    "#### Wait for the DAG to complete\n",
    "\n",
    "Use the `status dag` command to check the status of the dag. Wait for the dag status to complete. "
   ]
  },
  {
   "cell_type": "markdown",
   "id": "e730cbed-d820-498c-a9ba-a525809a1dd2",
   "metadata": {
    "tags": []
   },
   "source": [
    "**DAG could take 10 minutes or more to complete.**"
   ]
  },
  {
   "cell_type": "code",
   "execution_count": null,
   "id": "5f8f11dc-c607-4020-bca0-29f59d4f6824",
   "metadata": {},
   "outputs": [],
   "source": [
    "status dag trip_fare_training_dag"
   ]
  },
  {
   "cell_type": "markdown",
   "id": "03eaebd6-75de-4cc1-a0c5-6227d0b4183b",
   "metadata": {},
   "source": [
    "## Register a trained ML model\n",
    "\n",
    "After the training is complete, the `status` command will show COMPLETED status. The trained ML model must be registered before it can be used for predictions. The `list trained-models` command will list all the trained models within a project. The `register model` command will register a trained model. The `list registered-models` will list all registered models within a project."
   ]
  },
  {
   "cell_type": "markdown",
   "id": "9d74aa40-c16e-4997-9735-851b490dd632",
   "metadata": {},
   "source": [
    "##### To list all the models that have been trained"
   ]
  },
  {
   "cell_type": "code",
   "execution_count": null,
   "id": "aff5f794-e9f0-40e7-b2b7-e6264fb2225a",
   "metadata": {},
   "outputs": [],
   "source": [
    "list trained-models trip_fare_2_dl_model"
   ]
  },
  {
   "cell_type": "markdown",
   "id": "c80df5f4-64d0-4f68-a27f-8a935db00e14",
   "metadata": {},
   "source": [
    "##### Run this cell to register the model"
   ]
  },
  {
   "cell_type": "markdown",
   "id": "06e56205-0c21-4b6e-a0cd-362b07057ce6",
   "metadata": {},
   "source": [
    "**In the command below replace '1' with the run id of the model you want to register and deploy. The run id can be obtained from the previous list trained-models output.**"
   ]
  },
  {
   "cell_type": "code",
   "execution_count": null,
   "id": "ac8a2fec-d59f-4d95-acea-3831a161510d",
   "metadata": {},
   "outputs": [],
   "source": [
    "register model trip_fare_2_dl_model,1,PRODUCTION"
   ]
  },
  {
   "cell_type": "markdown",
   "id": "f45e6ec1-2684-4df4-8abd-cef8399269af",
   "metadata": {},
   "source": [
    "#### To list all registered models"
   ]
  },
  {
   "cell_type": "code",
   "execution_count": null,
   "id": "15d246fb-8092-4c7a-a979-f2ec7599113a",
   "metadata": {},
   "outputs": [],
   "source": [
    "list registered-models"
   ]
  },
  {
   "cell_type": "markdown",
   "id": "6958459c-cd28-4815-b4e1-57eaeea013cb",
   "metadata": {},
   "source": [
    "***\n",
    "\n",
    "# Serve an ML Model\n",
    "\n",
    "<html><img src=\"../../images/trip_fare_images/2_6.png\"/></html>\n",
    "\n",
    "In this step we will deploy the trained ML model to serve prediction requests. \n",
    "\n",
    "### Create a Foresight ML job file for model serving\n",
    "\n",
    "ML models are deployed via a Foresight ML job file which specifies the ML serving options. \n",
    "\n",
    "Create a Foresight ML job file using the registered-model version that you want to serve. \n",
    "\n",
    "The `create prediction` command takes 2 required parameters the registered-model name and the model version. The 'dir' parameter specifies the location where the generated files will be saved. The command will generate 3 files, a Foresight ML job file, a sources yaml and a sample curl command requests file. Refer to the Foresight User Manual for help.\n",
    "\n",
    "The sources yaml will contain definitions for two REST sources, one for the prediction REST request and one for the prediction REST response and a definition for the prediction log table.\n",
    "\n",
    "**In the command below, replace the version '1' with the version of the registered model you are using.**"
   ]
  },
  {
   "cell_type": "code",
   "execution_count": null,
   "id": "a950f46c-495d-4249-9bd3-203d093340ae",
   "metadata": {},
   "outputs": [],
   "source": [
    "create prediction trip_fare_2_dl_model,1,dir=trip_fare_dag/"
   ]
  },
  {
   "cell_type": "markdown",
   "id": "cfaadb0a-58c9-41ab-8c53-b8a2d9bc7dbe",
   "metadata": {},
   "source": [
    "***\n",
    "\n",
    "### Inspect the model serving files\n",
    "\n",
    "Inspect the model serving ML job file and the definitions for the prediction REST request, prediction REST response and the prediction log table.\n",
    "\n",
    "**Note: The generated files names have the model version number as shown below. In the commands below, replace the version '1' with the version of the registered model you are using.**\n",
    "\n",
    "    Example : <model name>_<version>_serve.ml , <model name>_<version>_sources.yml\n",
    "\n",
    "    "
   ]
  },
  {
   "cell_type": "code",
   "execution_count": null,
   "id": "b42cab95-b965-4565-8904-68d63a45da4a",
   "metadata": {},
   "outputs": [],
   "source": [
    "!cat trip_fare_dag/trip_fare_2_dl_model_1_serve.ml"
   ]
  },
  {
   "cell_type": "code",
   "execution_count": null,
   "id": "1dd47732-8e16-426c-90b5-0de93cd15ee8",
   "metadata": {},
   "outputs": [],
   "source": [
    "!cat trip_fare_dag/trip_fare_2_dl_model_1_sources.yml"
   ]
  },
  {
   "cell_type": "markdown",
   "id": "defb6458-80de-4c1b-b7af-583ae427aebc",
   "metadata": {},
   "source": [
    "### Schedule Model Deployment\n",
    "\n",
    "<html><img src=\"../../images/trip_fare_images/4_2.png\"/></html>\n",
    "\n",
    "We will schedule a DAG to deploy a model.\n",
    "\n",
    "**Edit the DAG JSON file and replace the version number in the model serving job file name to match the generated file name from the create prediction command.**"
   ]
  },
  {
   "cell_type": "markdown",
   "id": "464a53e2-7bff-4efb-9ac0-e9035cf37d96",
   "metadata": {},
   "source": [
    "The following DAG JSON file contains a job for deploying a registered model."
   ]
  },
  {
   "cell_type": "code",
   "execution_count": null,
   "id": "6e2329af-628e-4add-ae21-e0b9f3082676",
   "metadata": {
    "tags": []
   },
   "outputs": [],
   "source": [
    "!cat trip_fare_dag/trip_fare_prediction_dag.json"
   ]
  },
  {
   "cell_type": "code",
   "execution_count": null,
   "id": "8ba6d83c-acbe-43e5-a934-36be5eacd511",
   "metadata": {},
   "outputs": [],
   "source": [
    "schedule dag trip_fare_dag/trip_fare_prediction_dag.json"
   ]
  },
  {
   "cell_type": "markdown",
   "id": "0a29feae-fed3-45b3-b748-17f537245f8e",
   "metadata": {},
   "source": [
    "The command '**status dag**' will provide the current status of the model serving. The URL presented in the output serves as the endpoint for sending REST prediction requests, which can be done using tools such as curl or other suitable methods."
   ]
  },
  {
   "cell_type": "code",
   "execution_count": null,
   "id": "e4e61a6b-5447-458c-b298-659504b4c075",
   "metadata": {},
   "outputs": [],
   "source": [
    "status dag trip_fare_prediction_dag"
   ]
  },
  {
   "cell_type": "markdown",
   "id": "009584a7-6d57-494d-afba-6a389a9292ef",
   "metadata": {},
   "source": [
    "## Predict trip fare amounts\n",
    "\n",
    "Use the `test prediction` command to send prediction requests to the deployed model. The command by default uses the last 10 rows from the training dataset for prediction request data and sends curl requests to the deployed model. The predictions responses are collected and displayed.\n",
    "\n",
    "Refer to the Foresight User Manual for help."
   ]
  },
  {
   "cell_type": "markdown",
   "id": "932e00c9-58d9-4c47-861f-8c911270f2c0",
   "metadata": {},
   "source": [
    "Note: Once you run start prediction command, a prediction service starts running which is ready for serving. You can use the URL the prediction service gives you to send curl requests. Upon running the test prediction it also outputs the \"Example Curl Request\". Use this Curl request example to send data to predcition service or integrate the same into applications which where the predictions can be served."
   ]
  },
  {
   "cell_type": "code",
   "execution_count": null,
   "id": "0a93a443-c62a-4417-a2db-5dac9838923f",
   "metadata": {},
   "outputs": [],
   "source": [
    "test prediction trip_fare_2_dl_model_1_serve"
   ]
  },
  {
   "cell_type": "markdown",
   "id": "a24b9550-8805-46ef-8a94-86b899cc6d1c",
   "metadata": {},
   "source": [
    "Below is a markdowncell which shows how to run the Curl Request to fetch predictions. Convert the cell into Code state and then enter the prediction URL in the space mentioned and execute the cell to get response."
   ]
  },
  {
   "cell_type": "markdown",
   "id": "4403b529-4cbb-4039-a261-10c15060ec75",
   "metadata": {},
   "source": [
    "!curl -X GET \">enter the prediction URL here<\" -H \"Content-Type: application/json\" -d '[{\"rest_request_id\": \"prediction_test-1\", \"pickup_datetime\": \"2022-11-12 11:29:05\", \"pickup_zipcode\": \"10069\", \"dropoff_zipcode\": \"10107\", \"passenger_count\": 3}]'"
   ]
  },
  {
   "cell_type": "markdown",
   "id": "a0d40ea7-22b7-4899-bb09-b691c1ae383e",
   "metadata": {},
   "source": [
    "### Stop the deployed model\n",
    "\n",
    "Use the `stop dag` command to stop ML model serving when you have completed the prediction requests. This step is optional, you may choose to leave the model deployed."
   ]
  },
  {
   "cell_type": "code",
   "execution_count": null,
   "id": "48df1b42-3a2f-40ff-b810-18076c5d4793",
   "metadata": {},
   "outputs": [],
   "source": [
    "stop dag trip_fare_prediction_dag"
   ]
  },
  {
   "cell_type": "code",
   "execution_count": null,
   "id": "334299bb-ee90-4ba8-ae9b-ef7adbab08ee",
   "metadata": {},
   "outputs": [],
   "source": []
  }
 ],
 "metadata": {
  "kernelspec": {
   "display_name": "Foresight",
   "language": "python",
   "name": "foresight"
  },
  "language_info": {
   "file_extension": ".py",
   "mimetype": "text/plain",
   "name": "python"
  }
 },
 "nbformat": 4,
 "nbformat_minor": 5
}
