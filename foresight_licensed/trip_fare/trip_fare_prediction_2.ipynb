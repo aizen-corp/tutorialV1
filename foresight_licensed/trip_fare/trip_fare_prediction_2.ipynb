{
 "cells": [
  {
   "cell_type": "markdown",
   "id": "93f77938-7669-4c71-aabe-49ecd7316e2e",
   "metadata": {
    "tags": []
   },
   "source": [
    "***\n",
    "\n",
    "# Taxi Trip Fare Prediction - Model 2\n",
    "\n",
    "***\n",
    "\n",
    "The goal of this example is to build on the Model 1 example and generate a better ML model. We will\n",
    "- enhance the training dataset using contextual features\n",
    "- train an ML model based on historical taxi trip fare data and contextual features\n",
    "- serve the ML model to predict the trip fare for new trips\n",
    "\n",
    "### Prepare your data\n",
    "\n",
    "In the Model 1 example we used trip table from S3 bucket to use as training dataset. In this example we will use 3 more tables; hour_of_day_context, holiday_weekend_context and geo_area_context to enrich the data to and pass it model to better understand the context and provide better predictions.\n",
    "\n",
    "Let us look at the first few lines of the csv's which we will be going to use for building Model 2.\n",
    "\n",
    "##### hour_of_day_context.csv\n",
    "    hour_of_day,hourly_segment\n",
    "    0,early morning\n",
    "    1,early morning\n",
    "    2,early morning\n",
    "    3,early morning\n",
    "\n",
    "##### holiday_weekend_context.csv\n",
    "    calendar_day,is_holiday_or_weekend\n",
    "    2009-01-01,1\n",
    "    2009-01-02,0\n",
    "    2009-01-03,1\n",
    "    2009-01-04,1\n",
    "    \n",
    "##### geo_area_context.csv\n",
    "    zipcode,geo_area\n",
    "    10023,Commercial\n",
    "    10021,Residential\n",
    "    10002,Suburbs\n",
    "    11201,Commercial\n",
    "\n",
    "### Static contextual feature data\n",
    "\n",
    "We will enhance the data by adding three contextual feature tables. \n",
    "\n",
    "- an hourly segment table that maps an hour to an hourly-segment. \n",
    "- a holiday weekend table that maps a date to a flag indicating whether that date was a holiday-or-weekend or neither.\n",
    "- a geo area table that maps a zipcode to a type of geo area.\n",
    "\n",
    "The idea is that the hourly-segment, the holiday-or-weekend flag and the type of pickup and dropoff geo areas have an influence on the trip fare amount. We can create a more accurate ML model with these additional features.\n",
    "\n",
    "Each contextual feature table is a csv file in S3 bucket containing the respective mapping."
   ]
  },
  {
   "cell_type": "markdown",
   "id": "976afc32-8c6f-4e66-a4fc-819d702f7b2a",
   "metadata": {
    "jp-MarkdownHeadingCollapsed": true,
    "tags": []
   },
   "source": [
    "***\n",
    "\n",
    "**We will reuse the `trip_fare` project from Model 1 for this example.**"
   ]
  },
  {
   "cell_type": "code",
   "execution_count": null,
   "id": "5d7dabf3-4c67-4a7a-9ae4-9b7832c29bd1",
   "metadata": {
    "tags": []
   },
   "outputs": [],
   "source": [
    "set project trip_fare"
   ]
  },
  {
   "cell_type": "markdown",
   "id": "1664147e-01c5-4fd6-9ffe-1c1fffed8238",
   "metadata": {
    "tags": []
   },
   "source": [
    "***\n",
    "\n",
    "# Connect your Data Sources\n",
    "\n",
    "<html><img src=\"../../images/trip_fare_images/2_1.png\"/></html>\n",
    "\n",
    "In the Model 1 example we have connected the S3 bucket as a data source to Foresight for the trip table. Similarly in this step we will connect the S3 bucket as a data source to Foresight for the three contextual feature tables."
   ]
  },
  {
   "cell_type": "markdown",
   "id": "16f0afe6-4d93-4a30-91c2-f464486c1a75",
   "metadata": {
    "tags": []
   },
   "source": [
    "### Create a Foresight ML sources file\n",
    "\n",
    "Data sources are connected to Foresight via a Foresight ML sources file. In the Model 1 example we have created a Foresight ML sources file to connect the S3 bucket to the Foresight platform for the trip table. Create another Foresight ML sources file to add the three new contextual feature sources. Use the templates and code snippets available at the icons to the left. Refer to the Foresight User Manual for help.\n",
    "Alternatively you may use the Foresight ML sources file from this tutorial.\n",
    "\n",
    "<br> The relevant sections in the `trip_fare_2_data_sources.yml` file look like this:\n",
    "    \n",
    "            meta:\n",
    "              source_type: aws\n",
    "              source_format: csv\n",
    "              path: s3a://foresight-tutorial/trip_fare/<table_name>.csv         <<<<                \n",
    "              anon: true                                                              \n",
    "              delimiter: ','                                                          \n",
    "              s3_endpoint_url: https://foresight-tutorial.s3.us-west-2.amazonaws.com  \n"
   ]
  },
  {
   "cell_type": "code",
   "execution_count": null,
   "id": "977e3b7f-280f-435f-912f-c26f11feccf3",
   "metadata": {
    "tags": []
   },
   "outputs": [],
   "source": [
    "!cat trip_fare_prediction_model_2/trip_fare_2_data_sources.yml"
   ]
  },
  {
   "cell_type": "markdown",
   "id": "6066afe9-cf7f-4ef5-a948-755ff6afbf16",
   "metadata": {},
   "source": [
    "#### Add column schema to your data sources file\n",
    "\n",
    "Foresight can automatically infer column schema from your data sources and update the ML sources file. Use the `add columns` command to automatically infer and update the ML sources file with the data source column schema. After this command completes, you must review the column schema for correctness and if necessary edit the ML sources file to fix column names or data types. Alternatively you may manually edit the ML sources file and add all the column names and data types to match your data source schema."
   ]
  },
  {
   "cell_type": "code",
   "execution_count": null,
   "id": "09d1f5de-35c2-4e16-8682-c6ed4d3934d1",
   "metadata": {
    "tags": []
   },
   "outputs": [],
   "source": [
    "add columns trip_fare_prediction_model_2/trip_fare_2_data_sources.yml"
   ]
  },
  {
   "cell_type": "code",
   "execution_count": null,
   "id": "ac2af91a-d437-4904-9cdc-a67bf89b4736",
   "metadata": {
    "tags": []
   },
   "outputs": [],
   "source": [
    "!cat trip_fare_prediction_model_2/trip_fare_2_data_sources.yml"
   ]
  },
  {
   "cell_type": "markdown",
   "id": "f8b0d9e7-cf1d-4426-9c8b-a54b34e98c80",
   "metadata": {
    "tags": []
   },
   "source": [
    "***\n",
    "\n",
    "# Create Feature Sets for contextual features\n",
    "\n",
    "<html><img src=\"../../images/trip_fare_images/2_2.png\"/></html>\n",
    "\n",
    "In this step we will create three feature sets to generate and store the contextual feature tables in Foresight storage based on the three csv data sources. \n",
    "\n",
    "### Create Foresight ML job files to generate feature sets\n",
    "\n",
    "The feature sets will be created using Foresight ML job files. The `using_foresight_options` section of the Foresight ML job file is where you specify the key entities for each feature set. Key entities indicate row uniqueness within a table, and they are used to lookup the contextual feature. Create Foresight ML job files using the templates and code snippets available at the icons to the left. Refer to the Foresight User Manual for help."
   ]
  },
  {
   "cell_type": "code",
   "execution_count": null,
   "id": "abe6de03-a88b-4df2-865f-a4d172ab8ec0",
   "metadata": {
    "tags": []
   },
   "outputs": [],
   "source": [
    "!cat trip_fare_prediction_model_2/hour_of_day_context.ml"
   ]
  },
  {
   "cell_type": "code",
   "execution_count": null,
   "id": "0319d997-5b63-4b4e-b671-60821539b771",
   "metadata": {
    "tags": []
   },
   "outputs": [],
   "source": [
    "!cat trip_fare_prediction_model_2/holiday_weekend_context.ml"
   ]
  },
  {
   "cell_type": "code",
   "execution_count": null,
   "id": "ea5132e2-84eb-44a7-8cfe-412d56f38873",
   "metadata": {
    "tags": []
   },
   "outputs": [],
   "source": [
    "!cat trip_fare_prediction_model_2/geo_area_context.ml"
   ]
  },
  {
   "cell_type": "markdown",
   "id": "3625c187-b52a-42ca-a1b1-f81e81af0070",
   "metadata": {
    "tags": []
   },
   "source": [
    "### Create feature sets\n",
    "\n",
    "Use the `start featureset` command to execute the Foresight ML job file to create the feature set. This command will start a job that creates the feature set tables within Foresight, and inserts data into the Foresight tables from the data source. The job continues to run until all the data has been fetched. The `status featureset` command will show the status of the feature set.\n"
   ]
  },
  {
   "cell_type": "code",
   "execution_count": null,
   "id": "6fb00fcc-ca17-41c4-a690-639f54846662",
   "metadata": {
    "tags": []
   },
   "outputs": [],
   "source": [
    "start featureset trip_fare_prediction_model_2/hour_of_day_context"
   ]
  },
  {
   "cell_type": "code",
   "execution_count": null,
   "id": "2ddeca1d-62f1-40d3-82b9-2b92e3fbc783",
   "metadata": {
    "tags": []
   },
   "outputs": [],
   "source": [
    "start featureset trip_fare_prediction_model_2/holiday_weekend_context"
   ]
  },
  {
   "cell_type": "code",
   "execution_count": null,
   "id": "e400823b-be05-478f-af1b-d009375702fb",
   "metadata": {},
   "outputs": [],
   "source": [
    "start featureset trip_fare_prediction_model_2/geo_area_context"
   ]
  },
  {
   "cell_type": "code",
   "execution_count": null,
   "id": "b5194775-d4ad-4982-8a12-a9d7bc02a0e0",
   "metadata": {},
   "outputs": [],
   "source": [
    "status featureset hour_of_day_context"
   ]
  },
  {
   "cell_type": "code",
   "execution_count": null,
   "id": "2b2f246a-49fc-499f-8932-b889552ec8cf",
   "metadata": {},
   "outputs": [],
   "source": [
    "status featureset holiday_weekend_context"
   ]
  },
  {
   "cell_type": "code",
   "execution_count": null,
   "id": "eb27fd0e-7ddc-41df-b856-3f388d4fbded",
   "metadata": {},
   "outputs": [],
   "source": [
    "status featureset geo_area_context"
   ]
  },
  {
   "cell_type": "code",
   "execution_count": null,
   "id": "bb2cb5d4-87a5-4d2a-9732-c05f8de8fb50",
   "metadata": {},
   "outputs": [],
   "source": [
    "display featureset hour_of_day_context"
   ]
  },
  {
   "cell_type": "code",
   "execution_count": null,
   "id": "ebdc1a93-4623-4e53-bc0a-3ccc8a3899e0",
   "metadata": {},
   "outputs": [],
   "source": [
    "display featureset holiday_weekend_context"
   ]
  },
  {
   "cell_type": "code",
   "execution_count": null,
   "id": "bd3a835c-6d1c-4f40-8c02-0af5100771f2",
   "metadata": {},
   "outputs": [],
   "source": [
    "display featureset geo_area_context"
   ]
  },
  {
   "cell_type": "markdown",
   "id": "54851315-21ef-4264-9999-a14686f07bfd",
   "metadata": {
    "tags": []
   },
   "source": [
    "***\n",
    "\n",
    "# Create a Feature View to serve contextual features\n",
    "\n",
    "<html><img src=\"../../images/trip_fare_images/2_3.png\"/></html>\n",
    "\n",
    "In this step we will create a feature view to serve four contextual features from the three feature sets that we created in internal Foresight storage. The feature view will output the following contextual features\n",
    "- the hourly_segment for a given hour of day\n",
    "- the holiday_or_weekend flag for a given date\n",
    "- the pickup_geo_area for a given pickup zipcode\n",
    "- the dropoff_geo_area for a given dropoff zipcode\n",
    "\n",
    "### Create a Foresight ML job file to generate a feature view\n",
    "\n",
    "The feature view will be created using a Foresight ML job file. The `using_foresight_options` section of the Foresight ML job file is where you specify the feature name and source for the feature. Create a Foresight ML job file using the templates and code snippets available at the icons to the left. Refer to the Foresight User Manual for help. Make sure to update the models section of your Foresight ML job sources file as well."
   ]
  },
  {
   "cell_type": "code",
   "execution_count": null,
   "id": "d8368d02-d5ec-4525-94f4-00f3f8db6d15",
   "metadata": {},
   "outputs": [],
   "source": [
    "!cat trip_fare_prediction_model_2/trip_fare_2_feature_view.ml"
   ]
  },
  {
   "cell_type": "markdown",
   "id": "19619eb6-ec12-48e3-a186-fb38def94d7d",
   "metadata": {
    "tags": []
   },
   "source": [
    "### Start serving contextual features\n",
    "\n",
    "Use the `start featureview` command to execute the Foresight ML job file to start serving contextual features for the feature view. This command starts a job to serve the feature view. Use the `offline` option to serve features for training dataset creation and the `online` option to serve features for prediction. \n",
    "\n",
    "The `status featureview` command will show the status of the feature view. The *`feature_status`* element indicates the availability of feature data. A feature status of \"OK\" indicates that feature data is available."
   ]
  },
  {
   "cell_type": "code",
   "execution_count": null,
   "id": "91ddd220-1673-453f-ae6f-5dbe5f76269f",
   "metadata": {},
   "outputs": [],
   "source": [
    "start featureview trip_fare_prediction_model_2/trip_fare_2_feature_view,offline"
   ]
  },
  {
   "cell_type": "code",
   "execution_count": null,
   "id": "6bff9239-019a-4655-aaa9-c9c24ceff24b",
   "metadata": {},
   "outputs": [],
   "source": [
    "start featureview trip_fare_prediction_model_2/trip_fare_2_feature_view,online"
   ]
  },
  {
   "cell_type": "code",
   "execution_count": null,
   "id": "347f1ba8-bff2-4092-96b3-622af6b7a369",
   "metadata": {},
   "outputs": [],
   "source": [
    "status featureview trip_fare_2_feature_view,offline"
   ]
  },
  {
   "cell_type": "code",
   "execution_count": null,
   "id": "25a2966c-3dc1-4608-a6fa-5c8ca2fb20fe",
   "metadata": {},
   "outputs": [],
   "source": [
    "status featureview trip_fare_2_feature_view,online"
   ]
  },
  {
   "cell_type": "markdown",
   "id": "1b5fc6de-cc50-4384-99fa-381fd633dca9",
   "metadata": {},
   "source": [
    "### Explore feature sets and feature views\n",
    "\n",
    "Explore the feature sets and feature views that you created using `Foresight Explorer`. The `Foresight Explorer` tool can be opened by clicking on the following icon in the Launcher page. \n",
    "\n",
    "<html><img src=\"../../images/trip_fare_images/2_7.png\"/></html>\n",
    "\n",
    "Navigate to the `Foresight Explorer` web page and open the `trip_fare` project. Explore the feature sets and feature views within that project."
   ]
  },
  {
   "cell_type": "markdown",
   "id": "e75e5d1e-d9db-4a76-8695-12edb92848a6",
   "metadata": {
    "tags": []
   },
   "source": [
    "***\n",
    "\n",
    "# Create a Training Dataset\n",
    "\n",
    "<html><img src=\"../../images/trip_fare_images/2_4.png\"/></html>\n",
    "\n",
    "In this step we will create a training dataset using the trip table data source and the contextual features. We will use the pickup_zipcode, dropoff_zipcode and passenger_count as input features to the ML model. We will use the ***contextual_feature_fetch*** UDF to fetch the the hourly_segment, the is_holiday_or_weekend flag, the pickup_geo_area and the dropoff_geo_area from the feature view and use those as additional inputs to the ML model. The fare_amount will be the target or label for the ML model to train. \n",
    "\n",
    "### Create a Foresight ML job file to generate a training dataset\n",
    "\n",
    "The training dataset will be created using a SQL command. SQL commands can be executed via Foresight ML job files. Create a Foresight ML job file using the templates and code snippets available at the icons to the left. Refer to the Foresight User Manual for help."
   ]
  },
  {
   "cell_type": "code",
   "execution_count": null,
   "id": "2349d4a3-a439-4eb8-9c84-83a5f3615001",
   "metadata": {},
   "outputs": [],
   "source": [
    "!cat trip_fare_prediction_model_2/trip_fare_2_train_dataset.ml"
   ]
  },
  {
   "cell_type": "markdown",
   "id": "b7d639b8",
   "metadata": {},
   "source": [
    "### Create the dataset\n",
    "\n",
    "Use the `start dataset` command to execute the Foresight ML job file to create the training dataset.The `status dataset` command will show the current status of dataset generation; \"RUNNING\", \"COMPLETED\" or \"ERROR\". The `list datasets` command will list the created datasets within a project. The `display dataset` command will display the first few rows of the training dataset.\n",
    "\n",
    "**This command may take up to 10 minutes due to the size of the dataset.**"
   ]
  },
  {
   "cell_type": "code",
   "execution_count": null,
   "id": "857761ca",
   "metadata": {},
   "outputs": [],
   "source": [
    "start dataset trip_fare_prediction_model_2/trip_fare_2_train_dataset"
   ]
  },
  {
   "cell_type": "code",
   "execution_count": null,
   "id": "f023333d",
   "metadata": {},
   "outputs": [],
   "source": [
    "status dataset trip_fare_2_train_dataset"
   ]
  },
  {
   "cell_type": "code",
   "execution_count": null,
   "id": "6740aeed-884e-4d2f-a01b-2fac41f7748a",
   "metadata": {},
   "outputs": [],
   "source": [
    "list datasets"
   ]
  },
  {
   "cell_type": "code",
   "execution_count": null,
   "id": "2eacdcf3-0d4d-49ee-9602-8d71edb477fb",
   "metadata": {},
   "outputs": [],
   "source": [
    "display dataset trip_fare_2_train_dataset"
   ]
  },
  {
   "cell_type": "markdown",
   "id": "886bdbaa-8e5e-403d-9954-75848419b1d4",
   "metadata": {
    "tags": []
   },
   "source": [
    "### Explore data quality of the dataset\n",
    "\n",
    "Use the `explore data-quality` command to visually explore the data quality of the dataset and also get summary statistics. The `target_column` is an optional filed in the job file and represents the target or label for ML training. Click on the output url to visualize the data-quality report.\n",
    "\n",
    "The data-quality report is generated asynchronously. You can run the `status data-quality` command to check the status of the report.\n",
    "\n",
    "Click on the output url to visualize the final report.\n",
    "\n",
    "**The final report may take a few minutes due to the size of the dataset.**"
   ]
  },
  {
   "cell_type": "code",
   "execution_count": null,
   "id": "86f9a904",
   "metadata": {},
   "outputs": [],
   "source": [
    "!cat trip_fare_prediction_model_2/trip_fare_2_train_dataset_data_quality.ml"
   ]
  },
  {
   "cell_type": "code",
   "execution_count": null,
   "id": "d156f56e-039a-4baa-a933-12035079acbe",
   "metadata": {},
   "outputs": [],
   "source": [
    "explore data-quality trip_fare_prediction_model_2/trip_fare_2_train_dataset_data_quality"
   ]
  },
  {
   "cell_type": "code",
   "execution_count": null,
   "id": "d156f56e-039a-4baa-a933-12035079acbe",
   "metadata": {},
   "outputs": [],
   "source": [
    "status data-quality trip_fare_2_train_dataset"
   ]
  },
  {
   "cell_type": "markdown",
   "id": "2d20eae0-9027-4a1a-a225-041328c49443",
   "metadata": {
    "tags": []
   },
   "source": [
    "***\n",
    "\n",
    "# Train an ML Model\n",
    "\n",
    "<html><img src=\"../../images/trip_fare_images/2_5.png\"/></html>\n",
    "\n",
    "In this step we will train an ML model using the training dataset that was created. We will use the pickup_zipcode, dropoff_zipcode, passenger_count, hourly_segment and is_holiday_or_weekend as input features to the ML model. The fare_amount will be the target or label for the ML model to train. \n",
    "\n",
    "### Create a Foresight ML job file for model training\n",
    "\n",
    "ML model training is initiated via a Foresight ML job file which specifies the ML training parameters. Create a Foresight ML job file using the templates and code snippets available at the icons to the left. Refer to the Foresight User Manual for help."
   ]
  },
  {
   "cell_type": "markdown",
   "id": "51aba791-a8ab-4372-a9ab-f5f5179afc33",
   "metadata": {
    "tags": []
   },
   "source": [
    "### Start ML model training\n",
    "\n",
    "Use the `start training` command to execute the Foresight ML job file to start the model training. The `status training` command will show the status of the model training."
   ]
  },
  {
   "cell_type": "markdown",
   "id": "a393a00f-5be7-412d-8fca-c497b81a1cfe",
   "metadata": {},
   "source": [
    "### Machine Learning"
   ]
  },
  {
   "cell_type": "code",
   "execution_count": null,
   "id": "e7f28c5d-6ed0-4174-a685-7a65f1d5a9db",
   "metadata": {},
   "outputs": [],
   "source": [
    "!cat trip_fare_prediction_model_2/trip_fare_2_ml_model_train.ml"
   ]
  },
  {
   "cell_type": "code",
   "execution_count": null,
   "id": "fdc9581d-5a4f-4a19-8813-41bcf6ad6e98",
   "metadata": {},
   "outputs": [],
   "source": [
    "start training trip_fare_prediction_model_2/trip_fare_2_ml_model_train,limit=2000"
   ]
  },
  {
   "cell_type": "markdown",
   "id": "47cf21cb-e2b4-4557-a125-011d36f596e1",
   "metadata": {},
   "source": [
    "**Click the url shown in the output of status to open a *ML-Flow* session that displays the training metrics.**"
   ]
  },
  {
   "cell_type": "markdown",
   "id": "e2b78f75-739e-4aab-b4bd-671128e6ba4e",
   "metadata": {},
   "source": [
    "#### Wait for ML model training to complete\n",
    "\n",
    "Use the `status training` command to check the status of the model training. Wait for the ML model training status to complete. "
   ]
  },
  {
   "cell_type": "markdown",
   "id": "d56ba394-9257-400f-a838-d62de0486896",
   "metadata": {},
   "source": [
    "**Training could take 10 minutes or more to complete.**"
   ]
  },
  {
   "cell_type": "code",
   "execution_count": null,
   "id": "b09d32c9-dc59-4740-8026-9dfc70308749",
   "metadata": {},
   "outputs": [],
   "source": [
    "status training trip_fare_2_ml_model_train"
   ]
  },
  {
   "cell_type": "markdown",
   "id": "8e6965e2-fff1-413e-8c4b-a5b8d1d38c24",
   "metadata": {},
   "source": [
    "### Deep Learning"
   ]
  },
  {
   "cell_type": "code",
   "execution_count": null,
   "id": "4e6f5200-4059-432a-a27a-aa8cc65a9ced",
   "metadata": {},
   "outputs": [],
   "source": [
    "!cat trip_fare_prediction_model_2/trip_fare_2_dl_model_train.ml"
   ]
  },
  {
   "cell_type": "code",
   "execution_count": null,
   "id": "50f00b7b-e553-4cff-91d1-3ff6b0c4f59d",
   "metadata": {},
   "outputs": [],
   "source": [
    "start training trip_fare_prediction_model_2/trip_fare_2_dl_model_train"
   ]
  },
  {
   "cell_type": "markdown",
   "id": "158e0fd8-9ae6-49aa-9dca-2e2cfd0e2eac",
   "metadata": {},
   "source": [
    "**Click the url shown in the output to open a *TensorBoard* session that displays the training progress and metrics.** After opening the *TensorBoard* url click on the reload button to the top right of the *TensorBoard* page."
   ]
  },
  {
   "cell_type": "markdown",
   "id": "b6d5491d-4f48-473a-ba08-4f5efb313dd5",
   "metadata": {},
   "source": [
    "**Training could take 10 minutes or more to complete.**"
   ]
  },
  {
   "cell_type": "code",
   "execution_count": null,
   "id": "af65730c-34c6-4ffc-91d8-070e1ae5de3d",
   "metadata": {
    "tags": []
   },
   "outputs": [],
   "source": [
    "status training trip_fare_2_dl_model_train"
   ]
  },
  {
   "cell_type": "markdown",
   "id": "fc7383cf-8fad-4ed4-9767-19117274551d",
   "metadata": {
    "tags": []
   },
   "source": [
    "#### Note:\n",
    " TensorBoard is only available for Deep Learning models   "
   ]
  },
  {
   "cell_type": "code",
   "execution_count": null,
   "id": "38ed29a5-bb9a-483a-b6e1-f974278f8d25",
   "metadata": {},
   "outputs": [],
   "source": [
    "list tensorboard \"<model name>,<run_id>\""
   ]
  },
  {
   "cell_type": "markdown",
   "id": "264c64e0-6d42-43fa-8662-30db6edc846d",
   "metadata": {
    "tags": []
   },
   "source": [
    "## Register a trained ML model\n",
    "\n",
    "After the training is complete, the `status training` command will show COMPLETED status. The trained ML model must be registered before it can be used for predictions. The `list trained-models` command will list all the trained models within a project. The `register model` command will register a trained model. The `list registered-models` will list all registered models within a project."
   ]
  },
  {
   "cell_type": "markdown",
   "id": "023c2c20-9f5c-4b38-9017-d4aa1c9c0440",
   "metadata": {
    "tags": []
   },
   "source": [
    "##### To list all the ML models that have been trained"
   ]
  },
  {
   "cell_type": "code",
   "execution_count": null,
   "id": "04d0caed-221a-444b-a817-33b24ce1a137",
   "metadata": {},
   "outputs": [],
   "source": [
    "list trained-models trip_fare_2_ml_model"
   ]
  },
  {
   "cell_type": "markdown",
   "id": "3fc8e927-fcd4-4ea0-b300-7620a94f34fd",
   "metadata": {
    "tags": []
   },
   "source": [
    "##### To list all the DL models that have been trained"
   ]
  },
  {
   "cell_type": "code",
   "execution_count": null,
   "id": "7049cfc0-1550-4008-b889-d68cd9ca9f18",
   "metadata": {
    "tags": []
   },
   "outputs": [],
   "source": [
    "list trained-models trip_fare_2_dl_model"
   ]
  },
  {
   "cell_type": "markdown",
   "id": "34fd0a33-2cb3-4724-90f1-c27cad9bf5ff",
   "metadata": {
    "tags": []
   },
   "source": [
    "##### Run this cell to register the machine learning model"
   ]
  },
  {
   "cell_type": "code",
   "execution_count": null,
   "id": "47cf8fb1-68c6-498f-95aa-e3824a73b2c4",
   "metadata": {},
   "outputs": [],
   "source": [
    "register model trip_fare_2_ml_model,1,PRODUCTION"
   ]
  },
  {
   "cell_type": "markdown",
   "id": "93993404-695c-4aac-85e2-fb10327e6ca7",
   "metadata": {
    "tags": []
   },
   "source": [
    "##### Run this cell to register the deep learning model"
   ]
  },
  {
   "cell_type": "code",
   "execution_count": null,
   "id": "405e1796-e02e-4c85-91f1-598a9fe736dd",
   "metadata": {},
   "outputs": [],
   "source": [
    "register model trip_fare_2_dl_model,1,PRODUCTION"
   ]
  },
  {
   "cell_type": "markdown",
   "id": "40ef43d7-f5e7-4715-b81a-4e9eca1cfee7",
   "metadata": {},
   "source": [
    "#### To list all registered models"
   ]
  },
  {
   "cell_type": "code",
   "execution_count": null,
   "id": "3b702629-3994-465e-87b8-74e1b7b6d680",
   "metadata": {},
   "outputs": [],
   "source": [
    "list registered-models"
   ]
  },
  {
   "cell_type": "markdown",
   "id": "c510b4eb-2662-41f1-8436-78ad0008267b",
   "metadata": {
    "tags": []
   },
   "source": [
    "***\n",
    "\n",
    "# Serve an ML Model\n",
    "\n",
    "<html><img src=\"../../images/trip_fare_images/2_6.png\"/></html>\n",
    "\n",
    "In this step we will deploy the trained ML model to serve prediction requests. \n",
    "\n",
    "### Create a Foresight ML job file for model serving\n",
    "\n",
    "ML models are deployed via a Foresight ML job file which specifies the ML serving options. \n",
    "\n",
    "Create a Foresight ML job file using the registered-model version that you want to serve. \n",
    "\n",
    "The `create prediction` command takes 2 required parameters the registered-model name and the model version. The 'dir' parameter specifies the location where the generated files will be saved. The command will generate 3 files, a Foresight ML job file, a sources yaml and a sample curl command requests file. Refer to the Foresight User Manual for help.\n",
    "\n",
    "The sources yaml will contain definitions for two REST sources, one for the prediction REST request and one for the prediction REST response and a definition for the prediction log table.\n",
    "\n",
    "**In the command below, replace the version '1' with the version of the registered model you are using.**"
   ]
  },
  {
   "cell_type": "markdown",
   "id": "c2e4e684-a252-4675-9461-2ab8d0cf1c6b",
   "metadata": {},
   "source": [
    "In the following cells we have used machine learning models to serve predictions, if you choose to use deep learning model for predictions replace trip_fare_2_ml_model to trip_fare_2_dl_model."
   ]
  },
  {
   "cell_type": "code",
   "execution_count": null,
   "id": "444b2451-333b-43c6-881a-2c0f1b505fbf",
   "metadata": {
    "tags": []
   },
   "outputs": [],
   "source": [
    "create prediction trip_fare_2_ml_model,1,dir=trip_fare_prediction_model_2/"
   ]
  },
  {
   "cell_type": "markdown",
   "id": "ee60591d-aecb-4354-99c4-c72ffe33c0d2",
   "metadata": {},
   "source": [
    "***\n",
    "\n",
    "### Inspect the model serving files\n",
    "\n",
    "Inspect the model serving ML job file and the definitions for the prediction REST request, prediction REST response and the prediction log table.\n",
    "\n",
    "**Note: The generated files names have the model version number as shown below. In the commands below, replace the version '1' with the version of the registered model you are using.**\n",
    "\n",
    "    Example : <model name>_<version>_serve.ml , <model name>_<version>_sources.yml\n",
    "\n",
    "    "
   ]
  },
  {
   "cell_type": "code",
   "execution_count": null,
   "id": "f742119e-5824-464b-9ff0-566c1da9330b",
   "metadata": {},
   "outputs": [],
   "source": [
    "!cat trip_fare_prediction_model_2/trip_fare_2_ml_model_1_serve.ml"
   ]
  },
  {
   "cell_type": "code",
   "execution_count": null,
   "id": "973f016f-a665-479c-ac00-2af7b3fe628c",
   "metadata": {},
   "outputs": [],
   "source": [
    "!cat trip_fare_prediction_model_2/trip_fare_2_ml_model_1_sources.yml"
   ]
  },
  {
   "cell_type": "markdown",
   "id": "c94ed9da-ea39-4da4-8481-c65a8b8ea3c7",
   "metadata": {
    "tags": []
   },
   "source": [
    "### Deploy the model\n",
    "\n",
    "Use the `start prediction` command to execute the Foresight ML job file to deploy a model. The `status prediction` command will show the status of the model serving. The url shown in the output is the endpoint to which REST prediction request may be sent via `curl` or some other means."
   ]
  },
  {
   "cell_type": "code",
   "execution_count": null,
   "id": "4f00bbf3-b210-4830-a3b9-ace86c905220",
   "metadata": {},
   "outputs": [],
   "source": [
    "start prediction trip_fare_prediction_model_2/trip_fare_2_ml_model_1_serve"
   ]
  },
  {
   "cell_type": "code",
   "execution_count": null,
   "id": "a89b01ad-a566-4394-bf5f-a8893b703b51",
   "metadata": {},
   "outputs": [],
   "source": [
    "status prediction trip_fare_2_ml_model_1_serve"
   ]
  },
  {
   "cell_type": "markdown",
   "id": "7f1912b3-4479-431d-9651-584e536aa7b2",
   "metadata": {
    "tags": []
   },
   "source": [
    "## Predict trip fare amounts\n",
    "\n",
    "Use the `test prediction` command to send prediction requests to the deployed model. The command by default uses the last 10 rows from the training dataset for prediction request data and sends curl requests to the deployed model. The predictions responses are collected and displayed.\n",
    "\n",
    "Refer to the Foresight User Manual for help."
   ]
  },
  {
   "cell_type": "markdown",
   "id": "0bec7f92-5ca8-4542-bc0c-e6c289274dac",
   "metadata": {},
   "source": [
    "Note: Once you run start prediction command, a prediction service starts running which is ready for serving. You can use the URL the prediction service gives you to send curl requests. Upon running the test prediction it also outputs the \"Example Curl Request\". Use this Curl request example to send data to predcition service or integrate the same into applications which where the predictions can be served."
   ]
  },
  {
   "cell_type": "code",
   "execution_count": null,
   "id": "cc06da10-dd0d-4ff3-ac89-749424156074",
   "metadata": {},
   "outputs": [],
   "source": [
    "test prediction trip_fare_2_ml_model_1_serve"
   ]
  },
  {
   "cell_type": "markdown",
   "id": "9404e8ed-a084-44a1-8670-99e48b81fa37",
   "metadata": {},
   "source": [
    "Below is a markdowncell which shows how to run the Curl Request to fetch predictions. Convert the cell into Code state and then enter the prediction URL in the space mentioned and execute the cell to get response."
   ]
  },
  {
   "attachments": {},
   "cell_type": "markdown",
   "id": "3bfd6296-1277-4423-b95e-b54389204b50",
   "metadata": {
    "jupyter": {
     "outputs_hidden": true
    },
    "tags": []
   },
   "source": [
    "!curl -X GET \">enter the prediction URL here<\" -H \"Content-Type: application/json\" -d '[{\"rest_request_id\": \"prediction_test-1\", \"pickup_datetime\": \"2022-11-12 11:29:05\", \"pickup_zipcode\": \"10069\", \"dropoff_zipcode\": \"10107\", \"passenger_count\": 3}]'"
   ]
  },
  {
   "cell_type": "markdown",
   "id": "9b59b985-6b2f-4d97-8dcb-b458a30e009b",
   "metadata": {},
   "source": [
    "### Stop the deployed model\n",
    "\n",
    "Use the `stop prediction` command to stop ML model serving when you have completed the prediction requests. This step is optional, you may choose to leave the model deployed."
   ]
  },
  {
   "cell_type": "code",
   "execution_count": null,
   "id": "c17235d1-49dc-4eb5-9a3d-a0f3b4618de4",
   "metadata": {},
   "outputs": [],
   "source": [
    "stop prediction trip_fare_2_ml_model_1_serve"
   ]
  }
 ],
 "metadata": {
  "kernelspec": {
   "display_name": "Foresight",
   "language": "python",
   "name": "foresight"
  },
  "language_info": {
   "file_extension": ".py",
   "mimetype": "text/plain",
   "name": "python"
  }
 },
 "nbformat": 4,
 "nbformat_minor": 5
}
