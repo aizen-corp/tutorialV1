{
 "cells": [
  {
   "attachments": {},
   "cell_type": "markdown",
   "id": "93f77938-7669-4c71-aabe-49ecd7316e2e",
   "metadata": {
    "tags": []
   },
   "source": [
    "***\n",
    "\n",
    "# Taxi Trip Fare Prediction - Model 3\n",
    "\n",
    "***\n",
    "\n",
    "The goal of this example is to build on the Model 2 example and add features from real-time streaming data. We will\n",
    "- train an ML model based on historical taxi trip fare data and contextual features\n",
    "- add real-time window aggregate features calculated on real-time streaming data\n",
    "- serve the ML model to predict the trip fare for new trips\n",
    "\n",
    "### Prepare your data\n",
    "\n",
    "In the Model 1 example we used trip table from S3 bucket to use as training dataset.\n",
    "\n",
    "### Prepare your static contextual feature data\n",
    "\n",
    "In the Model 2 example we enhanced the data by adding three contextual feature tables. \n",
    "\n",
    "- an hourly segment table that maps an hour to an hourly_segment. \n",
    "- a holiday weekend table that maps a date to a flag indicating whether that date was a holiday-or-weekend or neither.\n",
    "- a geo area table that maps a zipcode to a type of geo area.\n",
    "\n",
    "### Prepare your real-time contextual feature data\n",
    "\n",
    "In this example we will connect to a real-time stream of trip events and add a real-time contextual feature.\n",
    "\n",
    "- the total passenger count for a zipcode within the last 4 hours\n",
    "\n",
    "The idea is that the total passenger count for all trips starting at a zipcode within the last 4 hours, indicates the recent demand at a zipcode and has an influence on the trip fare amount. We can create a more accurate ML model with this additional feature."
   ]
  },
  {
   "attachments": {},
   "cell_type": "markdown",
   "id": "976afc32-8c6f-4e66-a4fc-819d702f7b2a",
   "metadata": {
    "jp-MarkdownHeadingCollapsed": true,
    "tags": []
   },
   "source": [
    "***\n",
    "\n",
    "**We will reuse the `trip_fare` project from Model 1 for this example.**"
   ]
  },
  {
   "cell_type": "code",
   "execution_count": null,
   "id": "775400e0-ee27-498e-9015-6ed4622c98fb",
   "metadata": {
    "tags": []
   },
   "outputs": [],
   "source": [
    "set project trip_fare"
   ]
  },
  {
   "attachments": {},
   "cell_type": "markdown",
   "id": "1664147e-01c5-4fd6-9ffe-1c1fffed8238",
   "metadata": {
    "tags": []
   },
   "source": [
    "***\n",
    "\n",
    "# Connect your Data Sources\n",
    "\n",
    "<html><img src=\"../../images/trip_fare_images/3_1.png\"/></html>\n",
    "\n",
    "In the Model 1 example we have connected the S3 bucket as a data source to Foresight for the trip table. In the Model 2 example we have connected the the same S3 bucket as a data sources to Foresight for contextual feature tables. In this step we will continue with the same data sources for training the model later we will connect the real-time data from kafka to Foresight during model serving step. This will allow Foresight to read historical real-time data from S3 and current real-time data from kafka."
   ]
  },
  {
   "attachments": {},
   "cell_type": "markdown",
   "id": "f8b0d9e7-cf1d-4426-9c8b-a54b34e98c80",
   "metadata": {
    "tags": []
   },
   "source": [
    "***\n",
    "\n",
    "# Create a Feature Set for real-time aggregated features\n",
    "\n",
    "<html><img src=\"../../images/trip_fare_images/3_2.png\"/></html>\n",
    "\n",
    "In this step we will create a feature set to generate and store aggregated features in Foresight storage based on the real-time data source. Remember that the real-time contextual feature that we are trying to generate is\n",
    "- the total passenger count in the last 4 hours for any zipcode\n",
    "\n",
    "To generate this feature, the feature set needs to compute the sum aggregate of the passenger_count for all trips, grouped by the pickup_zipcode. In SQL terms the query looks like this,\n",
    "\n",
    "SELECT SUM(passenger_count) FROM \\<source data\\> GROUP BY pickup_zipcode \n",
    "\n",
    "### Create a Foresight ML job file to generate a feature set\n",
    "\n",
    "The feature set will be created using a Foresight ML job file. The `using_foresight_options` section of the Foresight ML job file is where you specify the SQL aggregation function and the GROUP BY entities. Create a Foresight ML job file using the templates and code snippets available at the icons to the left. Refer to the Foresight User Manual for help."
   ]
  },
  {
   "cell_type": "code",
   "execution_count": null,
   "id": "abe6de03-a88b-4df2-865f-a4d172ab8ec0",
   "metadata": {
    "tags": []
   },
   "outputs": [],
   "source": [
    "!cat trip_fare_prediction_model_3/trip_events_context.ml"
   ]
  },
  {
   "attachments": {},
   "cell_type": "markdown",
   "id": "3625c187-b52a-42ca-a1b1-f81e81af0070",
   "metadata": {
    "tags": []
   },
   "source": [
    "### Create a feature set\n",
    "\n",
    "Use the `start featureset` command to execute the Foresight ML job file to create the feature set. This command will start a job that creates the feature set tables within Foresight, and inserts data into the Foresight tables from the data source. The job will perform aggregations on the data as it is being fetched. It will fetch data from the historical backfill source as well as the real-time streaming source. The job continues to run forever as the data source is a real-time kafka stream. The `status featureset` command will show the status of the feature set.\n"
   ]
  },
  {
   "cell_type": "code",
   "execution_count": null,
   "id": "6fb00fcc-ca17-41c4-a690-639f54846662",
   "metadata": {
    "tags": []
   },
   "outputs": [],
   "source": [
    "start featureset trip_fare_prediction_model_3/trip_events_context"
   ]
  },
  {
   "cell_type": "code",
   "execution_count": null,
   "id": "b5194775-d4ad-4982-8a12-a9d7bc02a0e0",
   "metadata": {
    "tags": []
   },
   "outputs": [],
   "source": [
    "status featureset trip_events_context"
   ]
  },
  {
   "cell_type": "code",
   "execution_count": null,
   "id": "d2189430-8dc2-4158-b60f-90c722a17e11",
   "metadata": {
    "tags": []
   },
   "outputs": [],
   "source": [
    "start featureset trip_fare_prediction_model_3/trip_events_aggr1"
   ]
  },
  {
   "cell_type": "code",
   "execution_count": null,
   "id": "a8cc3f7d-2a12-4be8-814e-0afd9441283b",
   "metadata": {
    "tags": []
   },
   "outputs": [],
   "source": [
    "list featuresets"
   ]
  },
  {
   "cell_type": "code",
   "execution_count": null,
   "id": "24670756-a663-4c80-9a8a-10ffe233709e",
   "metadata": {
    "tags": []
   },
   "outputs": [],
   "source": [
    "status featureset trip_events_aggr1"
   ]
  },
  {
   "cell_type": "code",
   "execution_count": null,
   "id": "66699969-3977-4a9e-9273-bd7f5a9db71b",
   "metadata": {},
   "outputs": [],
   "source": [
    "display featureset trip_events_context"
   ]
  },
  {
   "attachments": {},
   "cell_type": "markdown",
   "id": "54851315-21ef-4264-9999-a14686f07bfd",
   "metadata": {
    "tags": []
   },
   "source": [
    "***\n",
    "\n",
    "# Create a Feature View to serve contextual features\n",
    "\n",
    "<html><img src=\"../../images/trip_fare_images/3_3.png\"/></html>\n",
    "\n",
    "In the Model 2 example we created a feature view to serve four contextual features from Foresight feature sets. In this step we will create a feature view to serve those four contextual features as well as a fifth real-time contextual feature from the feature set that we just created. The feature view will output the following contextual features\n",
    "- the hourly_segment for a given hour of day\n",
    "- the holiday_or_weekend flag for a given date\n",
    "- the pickup_geo_area for a given pickup zipcode\n",
    "- the dropoff_geo_area for a given dropoff zipcode\n",
    "- the total passenger count in the last 4 hours for a given zipcode\n",
    "\n",
    "### Create a Foresight ML job file to generate a feature view\n",
    "\n",
    "The feature view will be created using a Foresight ML job file. The `using_foresight_options` section of the Foresight ML job file is where you specify the aggregated feature name and the window for aggregation.  Create a Foresight ML job file using the templates and code snippets available at the icons to the left. Refer to the Foresight User Manual for help."
   ]
  },
  {
   "cell_type": "code",
   "execution_count": null,
   "id": "d8368d02-d5ec-4525-94f4-00f3f8db6d15",
   "metadata": {
    "tags": []
   },
   "outputs": [],
   "source": [
    "!cat trip_fare_prediction_model_3/trip_fare_3_feature_view.ml"
   ]
  },
  {
   "attachments": {},
   "cell_type": "markdown",
   "id": "19619eb6-ec12-48e3-a186-fb38def94d7d",
   "metadata": {
    "tags": []
   },
   "source": [
    "### Start serving contextual features\n",
    "\n",
    "Use the `start featureview` command to execute the Foresight ML job file to start serving contextual features for the feature view. This command starts a job to serve the feature view. Use the `offline` option to serve features for training dataset creation and the `online` option to serve features for prediction. \n",
    "\n",
    "The `status featureview` command will show the status of the feature view. The *`feature_status`* element indicates the availability of feature data. A feature status of \"OK\" indicates that feature data is available. A feature status of \"DATA_NOT_READY\" indicates that data is still being fetched from historical or stream sources and is not up-to-date for consumption.\n",
    "\n",
    "**It may take up to 10 minutes for the *`feature_status`* to show \"OK\" due to the size and duration of the historical feature data.** If the feature status shows **\"DATA_NOT_READY\"** that means the historical data is still being fetched and processed. The data has not reached the current time. The user must wait till the feature status shows \"OK\" before proceeding to the next steps."
   ]
  },
  {
   "cell_type": "code",
   "execution_count": null,
   "id": "91ddd220-1673-453f-ae6f-5dbe5f76269f",
   "metadata": {
    "tags": []
   },
   "outputs": [],
   "source": [
    "start featureview trip_fare_prediction_model_3/trip_fare_3_feature_view,offline"
   ]
  },
  {
   "cell_type": "code",
   "execution_count": null,
   "id": "6bff9239-019a-4655-aaa9-c9c24ceff24b",
   "metadata": {
    "tags": []
   },
   "outputs": [],
   "source": [
    "start featureview trip_fare_prediction_model_3/trip_fare_3_feature_view,online"
   ]
  },
  {
   "cell_type": "code",
   "execution_count": null,
   "id": "347f1ba8-bff2-4092-96b3-622af6b7a369",
   "metadata": {
    "tags": []
   },
   "outputs": [],
   "source": [
    "status featureview trip_fare_3_feature_view,offline"
   ]
  },
  {
   "cell_type": "code",
   "execution_count": null,
   "id": "25a2966c-3dc1-4608-a6fa-5c8ca2fb20fe",
   "metadata": {
    "tags": []
   },
   "outputs": [],
   "source": [
    "status featureview trip_fare_3_feature_view,online"
   ]
  },
  {
   "attachments": {},
   "cell_type": "markdown",
   "id": "ff4e3273-0b68-4c89-97f1-e714e2c57e31",
   "metadata": {},
   "source": [
    "### Explore feature sets and feature views\n",
    "\n",
    "Explore the feature sets and feature views that you created using `Foresight Explorer`. The `Foresight Explorer` tool can be opened by clicking on the following icon in the Launcher page. \n",
    "\n",
    "<html><img src=\"../../images/trip_fare_images/2_7.png\"/></html>\n",
    "\n",
    "Navigate to the `Foresight Explorer` web page and open the `trip_fare` project. Explore the feature sets and feature views within that project."
   ]
  },
  {
   "attachments": {},
   "cell_type": "markdown",
   "id": "e75e5d1e-d9db-4a76-8695-12edb92848a6",
   "metadata": {
    "tags": []
   },
   "source": [
    "***\n",
    "\n",
    "# Create a Training Dataset\n",
    "\n",
    "<html><img src=\"../../images/trip_fare_images/3_4.png\"/></html>\n",
    "\n",
    "In this step we will create a training dataset using the trip table data source and the contextual features. We will use the pickup_zipcode, dropoff_zipcode and passenger_count as input features to the ML model. We will use the ***contextual_feature_fetch*** UDF to fetch the hourly_segment, the is_holiday_or_weekend flag and the total_passenger_count_4hr from the feature view and use those as additional inputs to the ML model. The fare_amount will be the target or label for the ML model to train. \n",
    "\n",
    "### Create a Foresight ML job file to generate a training dataset\n",
    "\n",
    "The training dataset will be created using a SQL command. SQL commands can be executed via Foresight ML job files. Create a Foresight ML job file using the templates and code snippets available at the icons to the left. Refer to the Foresight User Manual for help."
   ]
  },
  {
   "cell_type": "code",
   "execution_count": null,
   "id": "2349d4a3-a439-4eb8-9c84-83a5f3615001",
   "metadata": {},
   "outputs": [],
   "source": [
    "!cat trip_fare_prediction_model_3/trip_fare_3_train_dataset.ml"
   ]
  },
  {
   "attachments": {},
   "cell_type": "markdown",
   "id": "350c9e01-ffb1-4b3f-9930-e14948ac272d",
   "metadata": {
    "tags": []
   },
   "source": [
    "### Create the dataset\n",
    "\n",
    "Use the `start dataset` command to execute the Foresight ML job file to create the training dataset.The `status dataset` command will show the current status of dataset generation; \"RUNNING\", \"COMPLETED\" or \"ERROR\". The `list datasets` command will list the created datasets within a project. The `display dataset` command will display the first few rows of the training dataset.\n",
    "\n",
    "**This command may take up to 10 minutes due to the size of the dataset.**"
   ]
  },
  {
   "cell_type": "code",
   "execution_count": null,
   "id": "94f111f8-f5a2-456d-bda9-d2d847f94ce4",
   "metadata": {
    "tags": []
   },
   "outputs": [],
   "source": [
    "start dataset trip_fare_prediction_model_3/trip_fare_3_train_dataset"
   ]
  },
  {
   "cell_type": "code",
   "execution_count": null,
   "id": "1a826f89",
   "metadata": {},
   "outputs": [],
   "source": [
    "status dataset trip_fare_3_train_dataset"
   ]
  },
  {
   "cell_type": "code",
   "execution_count": null,
   "id": "6740aeed-884e-4d2f-a01b-2fac41f7748a",
   "metadata": {},
   "outputs": [],
   "source": [
    "list datasets"
   ]
  },
  {
   "cell_type": "code",
   "execution_count": null,
   "id": "2eacdcf3-0d4d-49ee-9602-8d71edb477fb",
   "metadata": {},
   "outputs": [],
   "source": [
    "display dataset trip_fare_3_train_dataset"
   ]
  },
  {
   "attachments": {},
   "cell_type": "markdown",
   "id": "51fc29bb-2a49-4019-a6c0-7662029996a0",
   "metadata": {
    "tags": []
   },
   "source": [
    "### Explore the dataset\n",
    "\n",
    "Use the `explore dataset` command to visually explore the dataset using the Foresight data explorer. The `target_column` is the target or label for ML training. Click on the output url to visualize the dataset.\n",
    "\n",
    "**This command may take a few minutes due to the size of the dataset.**"
   ]
  },
  {
   "cell_type": "code",
   "execution_count": null,
   "id": "4259d6de-f90e-4821-97a6-3c25c646354f",
   "metadata": {},
   "outputs": [],
   "source": [
    "explore data-quality trip_fare_prediction_model_3/trip_fare_3_train_dataset_data_quality"
   ]
  },
  {
   "attachments": {},
   "cell_type": "markdown",
   "id": "2d20eae0-9027-4a1a-a225-041328c49443",
   "metadata": {
    "tags": []
   },
   "source": [
    "***\n",
    "\n",
    "# Train an ML Model\n",
    "\n",
    "<html><img src=\"../../images/trip_fare_images/3_5.png\"/></html>\n",
    "\n",
    "In this step we will train an ML model using the training dataset that was created. We will use the pickup_zipcode, dropoff_zipcode, passenger_count, distance, hourly_segment, is_holiday_or_weekend, and total_passenger_count_4hr as input features to the ML model. The fare_amount will be the target or label for the ML model to train. \n",
    "\n",
    "### Create a Foresight ML job file for model training\n",
    "\n",
    "ML model training is initiated via a Foresight ML job file which specifies the ML training parameters. Create a Foresight ML job file using the templates and code snippets available at the icons to the left. Refer to the Foresight User Manual for help."
   ]
  },
  {
   "attachments": {},
   "cell_type": "markdown",
   "id": "51aba791-a8ab-4372-a9ab-f5f5179afc33",
   "metadata": {
    "tags": []
   },
   "source": [
    "### Start ML model training\n",
    "\n",
    "Use the `start training` command to execute the Foresight ML job file to start the model training. The `status training` command will show the status of the model training. "
   ]
  },
  {
   "attachments": {},
   "cell_type": "markdown",
   "id": "2d771f32-d44a-4bab-a283-7378379bcea6",
   "metadata": {},
   "source": [
    "### Machine Learning"
   ]
  },
  {
   "cell_type": "code",
   "execution_count": null,
   "id": "d1374d84-6f14-4656-97e4-4318417e19a1",
   "metadata": {},
   "outputs": [],
   "source": [
    "!cat trip_fare_prediction_model_3/trip_fare_3_ml_model_train.ml"
   ]
  },
  {
   "cell_type": "code",
   "execution_count": null,
   "id": "11e2cb08-0008-48e6-90fd-a076cedf2ac5",
   "metadata": {
    "tags": []
   },
   "outputs": [],
   "source": [
    "start training trip_fare_prediction_model_3/trip_fare_3_ml_model_train,limit=2000"
   ]
  },
  {
   "attachments": {},
   "cell_type": "markdown",
   "id": "5b5c7258-eeed-4e8d-9fc3-82518f3db1c9",
   "metadata": {},
   "source": [
    "**Click the url shown in the output of status to open a *ML-Flow* session that displays the training metrics.**"
   ]
  },
  {
   "attachments": {},
   "cell_type": "markdown",
   "id": "d377a877-bc6e-47f2-a3c0-3f5b9d272562",
   "metadata": {},
   "source": [
    "#### Wait for ML model training to complete\n",
    "\n",
    "Use the `status training` command to check the status of the model training. Wait for the ML model training status to complete. "
   ]
  },
  {
   "attachments": {},
   "cell_type": "markdown",
   "id": "f05448c4-f1de-4a59-8439-e41a18615bd1",
   "metadata": {},
   "source": [
    "**Training could take 10 minutes or more to complete.**"
   ]
  },
  {
   "cell_type": "code",
   "execution_count": null,
   "id": "8c8ef37e-85bc-4af7-bb79-49a28c799a51",
   "metadata": {},
   "outputs": [],
   "source": [
    "status training trip_fare_3_ml_model_train"
   ]
  },
  {
   "attachments": {},
   "cell_type": "markdown",
   "id": "5cad4e42-4f6b-4c5a-a47d-2428c52eb64e",
   "metadata": {},
   "source": [
    "### Deep Learning"
   ]
  },
  {
   "cell_type": "code",
   "execution_count": null,
   "id": "bf376c12-4413-4c6b-9610-dacb20f1b109",
   "metadata": {},
   "outputs": [],
   "source": [
    "!cat trip_fare_prediction_model_3/trip_fare_3_dl_model_train.ml"
   ]
  },
  {
   "cell_type": "code",
   "execution_count": null,
   "id": "60dd44cf-b9bb-4a86-b453-2f9e274dedb8",
   "metadata": {},
   "outputs": [],
   "source": [
    "start training trip_fare_prediction_model_3/trip_fare_3_dl_model_train"
   ]
  },
  {
   "attachments": {},
   "cell_type": "markdown",
   "id": "689d78dd-68be-4077-990c-2808ca05ecdf",
   "metadata": {},
   "source": [
    "**Click the url shown in the output to open a *TensorBoard* session that displays the training progress and metrics.** After opening the *TensorBoard* url click on the reload button to the top right of the *TensorBoard* page."
   ]
  },
  {
   "attachments": {},
   "cell_type": "markdown",
   "id": "969c3216-da66-44ab-82a6-1c193d50993c",
   "metadata": {
    "tags": []
   },
   "source": [
    "**Training could take 10 minutes or more to complete.**"
   ]
  },
  {
   "cell_type": "code",
   "execution_count": null,
   "id": "ace7da80-dc71-4a96-9c49-6efe434a4fe4",
   "metadata": {
    "tags": []
   },
   "outputs": [],
   "source": [
    "status training trip_fare_3_dl_model_train"
   ]
  },
  {
   "attachments": {},
   "cell_type": "markdown",
   "id": "9e2d7d63-c67e-40a2-8ec5-7f1bfa09d8e7",
   "metadata": {},
   "source": [
    "#### Note:\n",
    " TensorBoard is only available for Deep Learning models   "
   ]
  },
  {
   "cell_type": "code",
   "execution_count": null,
   "id": "24c3d83d-c34b-4439-a520-826025ef0d8f",
   "metadata": {},
   "outputs": [],
   "source": [
    "list tensorboard \"<model name>,<run_id>\""
   ]
  },
  {
   "attachments": {},
   "cell_type": "markdown",
   "id": "c2dbb8b2-2cfa-44f6-9ba1-7dd32f57e406",
   "metadata": {
    "tags": []
   },
   "source": [
    "## Register a trained ML model\n",
    "\n",
    "After the training is complete, the `status training` command will show COMPLETED status. The trained ML model must be registered before it can be used for predictions. The `list trained-models` command will list all the trained models within a project. The `register model` command will register a trained model. The `list registered-models` will list all registered models within a project."
   ]
  },
  {
   "attachments": {},
   "cell_type": "markdown",
   "id": "b06a5b14-7b26-4aef-9f24-74217186a03d",
   "metadata": {
    "tags": []
   },
   "source": [
    "##### To list all the ML models that have been trained"
   ]
  },
  {
   "cell_type": "code",
   "execution_count": null,
   "id": "e5f20772-ecef-4086-90da-188b7d03a9f4",
   "metadata": {},
   "outputs": [],
   "source": [
    "list trained-models trip_fare_3_ml_model"
   ]
  },
  {
   "attachments": {},
   "cell_type": "markdown",
   "id": "3febc44d-a773-4e97-8c58-e4baca8ee83c",
   "metadata": {
    "tags": []
   },
   "source": [
    "##### To list all the DL models that have been trained"
   ]
  },
  {
   "cell_type": "code",
   "execution_count": null,
   "id": "3620c63b-61ee-43c6-b639-f921711eb5ff",
   "metadata": {
    "tags": []
   },
   "outputs": [],
   "source": [
    "list trained-models trip_fare_3_dl_model"
   ]
  },
  {
   "attachments": {},
   "cell_type": "markdown",
   "id": "915f03b9-ce45-4d38-b568-f1a26af4b679",
   "metadata": {
    "tags": []
   },
   "source": [
    "##### Run this cell to register the machine learning model"
   ]
  },
  {
   "cell_type": "code",
   "execution_count": null,
   "id": "db0aaed3-4909-4e29-b74e-a231c774be3e",
   "metadata": {},
   "outputs": [],
   "source": [
    "register model trip_fare_3_ml_model,1,PRODUCTION"
   ]
  },
  {
   "attachments": {},
   "cell_type": "markdown",
   "id": "1d02bcc1-c804-4c94-a2f4-ac618aecb449",
   "metadata": {
    "tags": []
   },
   "source": [
    "##### Run this cell to register the deep learning model"
   ]
  },
  {
   "cell_type": "code",
   "execution_count": null,
   "id": "f2098e1b-39ed-415a-9ffc-b2f5b38af229",
   "metadata": {},
   "outputs": [],
   "source": [
    "register model trip_fare_3_dl_model,1,PRODUCTION"
   ]
  },
  {
   "attachments": {},
   "cell_type": "markdown",
   "id": "6420da29-5d8e-42ee-83b6-907e4ca2592a",
   "metadata": {},
   "source": [
    "#### To list all registered models"
   ]
  },
  {
   "cell_type": "code",
   "execution_count": null,
   "id": "1455cd6c-2bcd-4d97-aee5-720357426ffe",
   "metadata": {},
   "outputs": [],
   "source": [
    "list registered-models"
   ]
  },
  {
   "attachments": {},
   "cell_type": "markdown",
   "id": "4a0cb6b6",
   "metadata": {},
   "source": [
    "Now for serving we will calculate real-time contextual features which are aggregated on top of streaming data. For this we'll first publish the streaming events and then add the streaming service to featureset which allows it to run aggregations on real-time data."
   ]
  },
  {
   "attachments": {},
   "cell_type": "markdown",
   "id": "f7ac8cac",
   "metadata": {},
   "source": [
    "Real-time trip events are published to a kafka stream using the trip table csv file. We will use the same trip table csv file for historical data to train the ML model as well as for real-time data when serving the ML model.\n",
    "\n",
    "First we will fetch the trip table csv using wget and peek at a few lines of data from the csv file. The data includes the pickup datetime, pickup latitude, longitude, dropoff latitude, longitude, pickup and dropoff zipcodes, passenger count and fare amount. We will print the first few lines using the `head` command."
   ]
  },
  {
   "cell_type": "code",
   "execution_count": null,
   "id": "b629bc44",
   "metadata": {},
   "outputs": [],
   "source": [
    "!wget \"https://foresight-tutorial.s3.us-west-2.amazonaws.com/trip_fare/trip_table.csv\""
   ]
  },
  {
   "cell_type": "code",
   "execution_count": null,
   "id": "108c49c8",
   "metadata": {},
   "outputs": [],
   "source": [
    "!head -n 5 trip_table.csv"
   ]
  },
  {
   "attachments": {},
   "cell_type": "markdown",
   "id": "bf399c7e",
   "metadata": {},
   "source": [
    "### Publish your real-time contextual feature data\n",
    "\n",
    "We will use kafka as the data source for the real-time trip events. We will publish trip events to a kafka broker. Use `kafka-producer-csv.py` to publish trip events from the trip table csv file to the kafka broker. This program takes each trip event from the trip_table csv file, updates the timestamps to reflect the current time and continuously publishes events to a kafka broker. It is a long running program and must be executed in the background, otherwise it will prevent other notebook cells from being executed until it completes. The `-b` option specifies the URL of the kafka broker. The `-i` option specifies the input csv file name. The `-e` option specifies the duration in minutes to publish events, the default is 15 minutes. The `-g` option obtains the kafka broker address and topic. The `-h` option displays help.\n",
    "\n",
    "Note the `kafka source meta` from the output below. It will be used later to connect the kafka topic to the Foresight platform.\n",
    "\n",
    "The second command below, that starts with an `&`, will publish trip events in the background to the kafka broker for a duration of 60 minutes."
   ]
  },
  {
   "cell_type": "code",
   "execution_count": null,
   "id": "975bfb53",
   "metadata": {},
   "outputs": [],
   "source": [
    "!kafka-producer-csv.py -b <kafka server>:9092 -i trip_table.csv -g"
   ]
  },
  {
   "cell_type": "code",
   "execution_count": null,
   "id": "64acf14a",
   "metadata": {},
   "outputs": [],
   "source": [
    "&kafka-producer-csv.py -b <kafka server>:9092 -i trip_table.csv -e 60"
   ]
  },
  {
   "attachments": {},
   "cell_type": "markdown",
   "id": "28c6b3c3",
   "metadata": {},
   "source": [
    "### Add Real-Time Data Source\n",
    "\n",
    "<html><img src=\"../../images/trip_fare_images/3_6.png\"/></html>\n",
    "\n",
    "Data sources are connected to Foresight via a Foresight ML sources file. In the Model 1 and 2 examples we have created a Foresight ML sources file to connect the S3 bucket as a source to the Foresight platform. Create another Foresight ML sources file to add a kafka source. Use the templates and code snippets available at the icons to the left. Refer to the Foresight User Manual for help.\n",
    "Alternatively you may use the Foresight ML sources file from this tutorial.\n",
    "\n",
    "**Make sure you update the Foresight ML sources file with the correct kafka broker url and topic obtained from the *\"Publish your data\"* step above.**\n",
    "<br>The relevant section in the `trip_fare_3_data_sources.yml` file looks like this:\n",
    "    \n",
    "         meta:\n",
    "              source_type: kafka\n",
    "              source_format: csv\n",
    "              url: <kafka server>:9092                                              <<<\n",
    "              topic: tutorial_client_<xxxx_xxxxxx>_trip_table                       <<<\n",
    "              offset: latest\n",
    "              streaming_window: 2 seconds\n",
    "              preprocessor: com.aizen.preprocessors.DefaultCsvPreprocessor\n"
   ]
  },
  {
   "cell_type": "code",
   "execution_count": null,
   "id": "a9bc95ad",
   "metadata": {},
   "outputs": [],
   "source": [
    "!cat trip_fare_prediction_model_3/trip_fare_3_data_sources.yml"
   ]
  },
  {
   "attachments": {},
   "cell_type": "markdown",
   "id": "34ac3a7a",
   "metadata": {},
   "source": [
    "#### Add column schema to your data sources file\n",
    "\n",
    "Foresight can automatically infer column schema from your data sources and update the ML sources file. Use the `add columns` command to automatically infer and update the ML sources file with the data source column schema. After this command completes, you must review the column schema for correctness and if necessary edit the ML sources file to fix column names or data types. Alternatively you may manually edit the ML sources file and add all the column names and data types to match your data source schema."
   ]
  },
  {
   "cell_type": "code",
   "execution_count": null,
   "id": "70dfe7f4",
   "metadata": {},
   "outputs": [],
   "source": [
    "add columns trip_fare_prediction_model_3/trip_fare_3_data_sources.yml"
   ]
  },
  {
   "cell_type": "code",
   "execution_count": null,
   "id": "b07b48f8",
   "metadata": {},
   "outputs": [],
   "source": [
    "!cat trip_fare_prediction_model_3/trip_fare_3_data_sources.yml"
   ]
  },
  {
   "attachments": {},
   "cell_type": "markdown",
   "id": "86bebf0c",
   "metadata": {},
   "source": [
    "We have connected Kafka as a data source through sources file. We will now add the kafka as a source to featureset which will enable the Foresight featureset service to read the data from Kafka and perform the aggregations on streaming data. Run the below cell to alter the featureset to calculate aggregates on streaming data alongisde backfill data."
   ]
  },
  {
   "cell_type": "code",
   "execution_count": null,
   "id": "cc9872a0",
   "metadata": {},
   "outputs": [],
   "source": [
    "alter featureset trip_events_context,\"add source trip_fare_prediction_model_3/trip_fare_3_data_sources.yml:kafka.trip_events\""
   ]
  },
  {
   "attachments": {},
   "cell_type": "markdown",
   "id": "981e2943",
   "metadata": {},
   "source": [
    "You can choose to remove Kafka as a source to featureset by replacing \"add\" by \"remove\" in the above command."
   ]
  },
  {
   "attachments": {},
   "cell_type": "markdown",
   "id": "c510b4eb-2662-41f1-8436-78ad0008267b",
   "metadata": {
    "tags": []
   },
   "source": [
    "***\n",
    "\n",
    "# Serve an ML Model\n",
    "\n",
    "<html><img src=\"../../images/trip_fare_images/3_7.png\"/></html>\n",
    "\n",
    "In this step we will deploy the trained ML model to serve prediction requests. \n",
    "\n",
    "### Create a Foresight ML job file for model serving\n",
    "\n",
    "ML models are deployed via a Foresight ML job file which specifies the ML serving options. \n",
    "\n",
    "Create a Foresight ML job file using the registered-model version that you want to serve. \n",
    "\n",
    "The `create prediction` command takes 2 required parameters the registered-model name and the model version. The 'dir' parameter specifies the location where the generated files will be saved. The command will generate 3 files, a Foresight ML job file, a sources yaml and a sample curl command requests file. Refer to the Foresight User Manual for help.\n",
    "\n",
    "The sources yaml will contain definitions for two REST sources, one for the prediction REST request and one for the prediction REST response and a definition for the prediction log table.\n",
    "\n",
    "**In the command below, replace the version '1' with the version of the registered model you are using.**"
   ]
  },
  {
   "attachments": {},
   "cell_type": "markdown",
   "id": "979d59a3-e265-4bbb-91ec-0840faa66b72",
   "metadata": {},
   "source": [
    "In the following cells we have used machine learning models to serve predictions, if you choose to use deep learning model for predictions replace trip_fare_3_ml_model to trip_fare_3_dl_model."
   ]
  },
  {
   "cell_type": "code",
   "execution_count": null,
   "id": "805f8296-3a82-439e-9477-a0f6d197cc88",
   "metadata": {
    "tags": []
   },
   "outputs": [],
   "source": [
    "create prediction trip_fare_3_ml_model,1,dir=trip_fare_prediction_model_3/"
   ]
  },
  {
   "attachments": {},
   "cell_type": "markdown",
   "id": "f735c279-2404-4f3a-a588-4c5b1663db01",
   "metadata": {},
   "source": [
    "***\n",
    "\n",
    "### Inspect the model serving files\n",
    "\n",
    "Inspect the model serving ML job file and the definitions for the prediction REST request, prediction REST response and the prediction log table.\n",
    "\n",
    "**Note: The generated files names have the model version number as shown below. In the commands below, replace the version '1' with the version of the registered model you are using.**\n",
    "\n",
    "    Example : <model name>_<version>_serve.ml , <model name>_<version>_sources.yml\n",
    "\n",
    "    "
   ]
  },
  {
   "cell_type": "code",
   "execution_count": null,
   "id": "22c0440f-9313-4422-935c-5e6b585acba0",
   "metadata": {},
   "outputs": [],
   "source": [
    "!cat trip_fare_prediction_model_3/trip_fare_3_ml_model_1_serve.ml"
   ]
  },
  {
   "cell_type": "code",
   "execution_count": null,
   "id": "c81f3dba-3f1b-4602-9377-1cbd2ec292b3",
   "metadata": {},
   "outputs": [],
   "source": [
    "!cat trip_fare_prediction_model_3/trip_fare_3_ml_model_1_sources.yml"
   ]
  },
  {
   "attachments": {},
   "cell_type": "markdown",
   "id": "04f7e4fd-7687-476c-89ac-53bcf5874f20",
   "metadata": {
    "tags": []
   },
   "source": [
    "### Deploy the model\n",
    "\n",
    "Use the `start prediction` command to execute the Foresight ML job file to deploy a model. The `status prediction` command will show the status of the model serving. The url shown in the output is the endpoint to which REST prediction request may be sent via `curl` or some other means."
   ]
  },
  {
   "cell_type": "code",
   "execution_count": null,
   "id": "f8300485-d1a4-4873-a211-a9f7b7e59e6d",
   "metadata": {},
   "outputs": [],
   "source": [
    "start prediction trip_fare_prediction_model_3/trip_fare_3_ml_model_1_serve"
   ]
  },
  {
   "cell_type": "code",
   "execution_count": null,
   "id": "c52ea953-f669-4613-8db7-c456f46f07b0",
   "metadata": {},
   "outputs": [],
   "source": [
    "status prediction trip_fare_3_ml_model_1_serve"
   ]
  },
  {
   "attachments": {},
   "cell_type": "markdown",
   "id": "45075af8-890f-496e-87e9-06c4c7448ac5",
   "metadata": {
    "tags": []
   },
   "source": [
    "## Predict trip fare amounts\n",
    "\n",
    "Use the `test prediction` command to send prediction requests to the deployed model. The command by default uses the last 10 rows from the training dataset for prediction request data and sends curl requests to the deployed model. The predictions responses are collected and displayed.\n",
    "\n",
    "Refer to the Foresight User Manual for help."
   ]
  },
  {
   "attachments": {},
   "cell_type": "markdown",
   "id": "20c8c61c-3691-4be1-bf79-52d17e60d020",
   "metadata": {},
   "source": [
    "Note: Once you run start prediction command, a prediction service starts running which is ready for serving. You can use the URL the prediction service gives you to send curl requests. Upon running the test prediction it also outputs the \"Example Curl Request\". Use this Curl request example to send data to predcition service or integrate the same into applications which where the predictions can be served."
   ]
  },
  {
   "cell_type": "code",
   "execution_count": null,
   "id": "1944c31f-b166-49a6-b520-f4fa254da9c3",
   "metadata": {},
   "outputs": [],
   "source": [
    "test prediction trip_fare_3_ml_model_1_serve"
   ]
  },
  {
   "attachments": {},
   "cell_type": "markdown",
   "id": "6a27c635-09cd-4b31-bcc2-3e76cb800093",
   "metadata": {},
   "source": [
    "Below is a markdowncell which shows how to run the Curl Request to fetch predictions. Convert the cell into Code state and then enter the prediction URL in the space mentioned and execute the cell to get response."
   ]
  },
  {
   "attachments": {},
   "cell_type": "markdown",
   "id": "1ab5ee87-d628-4ca2-af3a-ee8dfc62b8ac",
   "metadata": {
    "jupyter": {
     "outputs_hidden": true
    },
    "tags": []
   },
   "source": [
    "!curl -X GET \">enter the prediction URL here<\" -H \"Content-Type: application/json\" -d '[{\"rest_request_id\": \"prediction_test-1\", \"pickup_datetime\": \"2022-11-12 11:29:05\", \"pickup_zipcode\": \"10069\", \"dropoff_zipcode\": \"10107\", \"passenger_count\": 3}]'"
   ]
  },
  {
   "attachments": {},
   "cell_type": "markdown",
   "id": "153ce97e-7dc5-4725-bd5a-4d2b2b5ae81c",
   "metadata": {},
   "source": [
    "### Stop the deployed model\n",
    "\n",
    "Use the `stop prediction` command to stop ML model serving when you have completed the prediction requests. This step is optional, you may choose to leave the model deployed."
   ]
  },
  {
   "cell_type": "code",
   "execution_count": null,
   "id": "1b7cee31-e0c2-492d-bb27-8dfc96b9a406",
   "metadata": {},
   "outputs": [],
   "source": [
    "stop prediction trip_fare_3_ml_model_1_serve"
   ]
  }
 ],
 "metadata": {
  "kernelspec": {
   "display_name": "Foresight",
   "language": "python",
   "name": "foresight"
  },
  "language_info": {
   "file_extension": ".py",
   "mimetype": "text/plain",
   "name": "python"
  }
 },
 "nbformat": 4,
 "nbformat_minor": 5
}
