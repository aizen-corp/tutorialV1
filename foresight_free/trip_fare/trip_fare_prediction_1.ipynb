{
 "cells": [
  {
   "cell_type": "markdown",
   "id": "93f77938-7669-4c71-aabe-49ecd7316e2e",
   "metadata": {
    "tags": []
   },
   "source": [
    "***\n",
    "\n",
    "# Taxi Trip Fare Prediction - Model 1\n",
    "\n",
    "***\n",
    "\n",
    "The goal of this example is to train and serve a taxi trip fare prediction model. We will\n",
    "- train an ML model based on historical taxi trip fare data\n",
    "- serve the ML model to predict the trip fare for new trips"
   ]
  },
  {
   "cell_type": "markdown",
   "id": "9ba9202f-a04e-4ba1-81b4-95f18f447397",
   "metadata": {
    "tags": []
   },
   "source": [
    "***\n",
    "\n",
    "### Create a Foresight project\n",
    "\n",
    "We will create a project called `trip_fare` for this tutorial."
   ]
  },
  {
   "cell_type": "code",
   "execution_count": null,
   "id": "2423ef58-cbcc-4bfe-ae22-a79699bbc5bf",
   "metadata": {
    "tags": []
   },
   "outputs": [],
   "source": [
    "create project trip_fare"
   ]
  },
  {
   "attachments": {},
   "cell_type": "markdown",
   "id": "1664147e-01c5-4fd6-9ffe-1c1fffed8238",
   "metadata": {
    "tags": []
   },
   "source": [
    "***\n",
    "\n",
    "# Connect your Data Sources\n",
    "\n",
    "<html><img src=\"../../images/trip_fare_images/1_1.png\"/></html>\n",
    "\n",
    "We will be using trip_table.csv available in s3 bucket to fetch the data and start working on it. The data includes the pickup datetime, pickup latitude, longitude, dropoff latitude, longitude, pickup and dropoff zipcodes, passenger count and fare amount.\n",
    "\n",
    "The first few lines of the csv file are shown below,\n",
    "\n",
    "##### pickup_datetime,pickup_longitude,pickup_latitude,dropoff_longitude,dropoff_latitude,pickup_zipcode,dropoff_zipcode,passenger_count,fare_amount\n",
    "    2022-10-18 03:16:57,-73.9617,40.7628,-73.9748,40.7528,10065,10017,1,25.45\n",
    "    2022-10-18 03:17:00,-73.9957,40.7594,-73.9758,40.7553,10199,10111,1,16.48\n",
    "    2022-10-18 03:17:00,-73.9946,40.7259,-73.9915,40.7325,10003,10003,1,13.1\n",
    "    2022-10-18 03:17:46,-73.9893,40.7419,-74.0018,40.7263,10010,10012,1,23.31"
   ]
  },
  {
   "cell_type": "markdown",
   "id": "16f0afe6-4d93-4a30-91c2-f464486c1a75",
   "metadata": {
    "tags": []
   },
   "source": [
    "### Create a Foresight ML sources file\n",
    "\n",
    "In this step we will connect the AWS S3 as a data source to Foresight. This allows Foresight to read the trip table from the S3 bucket.\n",
    "\n",
    "Data sources are connected to Foresight via a Foresight ML sources file. Create a Foresight ML sources file using the templates and code snippets available at the icons to the left. Refer to the Foresight User Manual for help.\n",
    "\n",
    "Alternatively you may use the Foresight ML sources file from this tutorial.\n",
    "\n",
    "<br>The relevant section in the `trip_fare_data_sources.yml` file looks like this:\n",
    "    \n",
    "            meta:\n",
    "              source_type: aws\n",
    "              source_format: csv\n",
    "              path: s3a://foresight-tutorial/trip_fare/trip_table.csv                 \n",
    "              anon: true                                                              \n",
    "              infer_schema: true                                                      \n",
    "              header: true                                                            \n",
    "              delimiter: ','                                                          \n",
    "              s3_endpoint_url: https://s3.us-west-2.amazonaws.com  \n",
    "              batch_schedule: -1d\n",
    "              \n",
    "The S3 bucket or any other source (MySql, Kafka, etc.) if you wish to use, its credentials must be specified in the sources file."
   ]
  },
  {
   "cell_type": "code",
   "execution_count": null,
   "id": "977e3b7f-280f-435f-912f-c26f11feccf3",
   "metadata": {
    "tags": []
   },
   "outputs": [],
   "source": [
    "!cat trip_fare_data_sources.yml"
   ]
  },
  {
   "cell_type": "markdown",
   "id": "f314ff9d-6c34-424d-bd5d-83edfcc03c99",
   "metadata": {},
   "source": [
    "#### Add column schema to your data sources file\n",
    "\n",
    "Foresight can automatically infer column schema from your data sources and update the ML sources file. Use the `add columns` command to automatically infer and update the ML sources file with the data source column schema. After this command completes, you must review the column schema for correctness and if necessary edit the ML sources file to fix column names or data types. Alternatively you may manually edit the ML sources file and add all the column names and data types to match your data source schema."
   ]
  },
  {
   "cell_type": "code",
   "execution_count": null,
   "id": "d2d8a413-2398-41e7-a46b-aaa434d1c256",
   "metadata": {
    "tags": []
   },
   "outputs": [],
   "source": [
    "add columns trip_fare_data_sources.yml"
   ]
  },
  {
   "cell_type": "code",
   "execution_count": null,
   "id": "9a12765b-905a-4107-8a41-b038db459d7f",
   "metadata": {
    "tags": []
   },
   "outputs": [],
   "source": [
    "!cat trip_fare_data_sources.yml"
   ]
  },
  {
   "cell_type": "markdown",
   "id": "e75e5d1e-d9db-4a76-8695-12edb92848a6",
   "metadata": {
    "tags": []
   },
   "source": [
    "***\n",
    "\n",
    "# Create a Training Dataset\n",
    "\n",
    "<html><img src=\"../../images/trip_fare_images/1_2.png\"/></html>\n",
    "\n",
    "In this step we will create a training dataset using the trip table data source. We will use the pickup_zipcode, dropoff_zipcode and passenger_count as input features to the ML model and thus import these features into training dataset from trip table in S3 bucket along with the fare_amount which will be the target or label for the ML model to train. \n",
    "\n",
    "### Create a Foresight ML job file to generate a training dataset\n",
    "\n",
    "The training dataset will be created using a SQL command. SQL commands can be executed via Foresight ML job files. Create a Foresight ML job file using the templates and code snippets available at the icons to the left. Refer to the Foresight User Manual for help."
   ]
  },
  {
   "cell_type": "code",
   "execution_count": null,
   "id": "2349d4a3-a439-4eb8-9c84-83a5f3615001",
   "metadata": {
    "tags": []
   },
   "outputs": [],
   "source": [
    "!cat trip_fare_prediction_model_1/trip_fare_1_train_dataset.ml"
   ]
  },
  {
   "attachments": {},
   "cell_type": "markdown",
   "id": "350c9e01-ffb1-4b3f-9930-e14948ac272d",
   "metadata": {
    "tags": []
   },
   "source": [
    "### Create the dataset\n",
    "\n",
    "Use the `start dataset` command to execute the Foresight ML job file to create the training dataset.The `status dataset` command will show the current status of dataset generation; \"RUNNING\", \"COMPLETED\" or \"ERROR\". The `list datasets` command will list the created datasets within a project. The `display dataset` command will display the first few rows of the training dataset.\n",
    "\n",
    "**This command may take up to 10 minutes due to the size of the dataset.**"
   ]
  },
  {
   "cell_type": "code",
   "execution_count": null,
   "id": "94f111f8-f5a2-456d-bda9-d2d847f94ce4",
   "metadata": {
    "tags": []
   },
   "outputs": [],
   "source": [
    "start dataset trip_fare_prediction_model_1/trip_fare_1_train_dataset"
   ]
  },
  {
   "cell_type": "code",
   "execution_count": null,
   "id": "cb164367",
   "metadata": {},
   "outputs": [],
   "source": [
    "status dataset trip_fare_1_train_dataset"
   ]
  },
  {
   "cell_type": "code",
   "execution_count": null,
   "id": "6740aeed-884e-4d2f-a01b-2fac41f7748a",
   "metadata": {
    "tags": []
   },
   "outputs": [],
   "source": [
    "list datasets"
   ]
  },
  {
   "cell_type": "code",
   "execution_count": null,
   "id": "2eacdcf3-0d4d-49ee-9602-8d71edb477fb",
   "metadata": {
    "tags": []
   },
   "outputs": [],
   "source": [
    "display dataset trip_fare_1_train_dataset"
   ]
  },
  {
   "cell_type": "markdown",
   "id": "2d20eae0-9027-4a1a-a225-041328c49443",
   "metadata": {
    "tags": []
   },
   "source": [
    "***\n",
    "\n",
    "# Train an ML Model\n",
    "\n",
    "<html><img src=\"../../images/trip_fare_images/1_3.png\"/></html>\n",
    "\n",
    "In this step we will train an ML model using the training dataset that was created. We will use the pickup_zipcode, dropoff_zipcode and passenger_count as input features to the ML model. The fare_amount will be the target or label for the ML model to train. \n",
    "\n",
    "### Create a Foresight ML job file for model training\n",
    "\n",
    "ML model training is initiated via a Foresight ML job file which specifies the ML training parameters. Create a Foresight ML job file using the templates and code snippets available at the icons to the left. Refer to the Foresight User Manual for help."
   ]
  },
  {
   "cell_type": "markdown",
   "id": "be731cd8-9f44-472d-9b6d-d36b75cdfa9e",
   "metadata": {},
   "source": [
    "There are 2 different ways to train a model in Foresight -\n",
    "\n",
    "1\\.Machine Learning: Uses machine learning models to accomplish supervised and unsupervised learning tasks with models like linear regression, logistic regression, random forests, etc. \n",
    "\n",
    "2\\.Deep Learning: Uses neural network based models like cnn, lstm and rnn."
   ]
  },
  {
   "cell_type": "markdown",
   "id": "4d42187b-f437-44ae-8e1a-92b570909ff7",
   "metadata": {},
   "source": [
    "Here in this free version of Foresight only machine learning models are available. Get Licensed version of foresight to unlock deep learning models and also other computational features to work on live streaming data."
   ]
  },
  {
   "cell_type": "markdown",
   "id": "f634aaa7-229e-4b84-ab89-ecc5f6f2a2e5",
   "metadata": {
    "tags": []
   },
   "source": [
    "##### NOTE: \n",
    "We specified \"pickup_zipcode\" and \"dropoff_zipcode\" as \"high_cardinality_features\" because they're categorical columns with high cardinality and the training engine transforms the categorical variable into numerical representation by using techniques like one_hot_encoding and variables with high cardinality will cause the data to explode in higher dimensions. To avoid this mention the columns with high cardinality in \"high_cardinality_features\" section in the training job file which doesn't let data to explode into higher dimensions."
   ]
  },
  {
   "cell_type": "code",
   "execution_count": null,
   "id": "e7f28c5d-6ed0-4174-a685-7a65f1d5a9db",
   "metadata": {
    "tags": []
   },
   "outputs": [],
   "source": [
    "!cat trip_fare_prediction_model_1/trip_fare_1_model_train.ml"
   ]
  },
  {
   "cell_type": "markdown",
   "id": "51aba791-a8ab-4372-a9ab-f5f5179afc33",
   "metadata": {
    "tags": []
   },
   "source": [
    "### Start ML model training\n",
    "\n",
    "Use the `start training` command to execute the Foresight ML job file to start the model training. The `status training` command will show the status of the model training.\n",
    "\n",
    "**Training could take 10 minutes or more to complete.**"
   ]
  },
  {
   "cell_type": "markdown",
   "id": "8694dc7e-fba9-439c-ab33-dffb46d3af26",
   "metadata": {},
   "source": [
    "**Click the url shown in the output of status to open a *ML-Flow* session that displays the training metrics.**"
   ]
  },
  {
   "cell_type": "code",
   "execution_count": null,
   "id": "dbfcd1f5-f6d3-40ea-ad6b-354b6ade890f",
   "metadata": {
    "tags": []
   },
   "outputs": [],
   "source": [
    "start training trip_fare_prediction_model_1/trip_fare_1_model_train"
   ]
  },
  {
   "cell_type": "markdown",
   "id": "54ba23af-35db-4bca-a3c8-9548beb3ce09",
   "metadata": {
    "tags": []
   },
   "source": [
    "#### Wait for ML model training to complete\n",
    "\n",
    "Use the `status training` command to check the status of the model training. Wait for the ML model training status to complete. \n",
    "\n",
    "**Training could take 10 minutes or more to complete.**"
   ]
  },
  {
   "cell_type": "markdown",
   "id": "3c08758f-dc07-4e63-9bb9-63a41e2510c8",
   "metadata": {},
   "source": [
    "**Click the url shown in the output of status to open a *ML-Flow* session that displays the training metrics.**"
   ]
  },
  {
   "cell_type": "code",
   "execution_count": null,
   "id": "af65730c-34c6-4ffc-91d8-070e1ae5de3d",
   "metadata": {
    "tags": []
   },
   "outputs": [],
   "source": [
    "status training trip_fare_1_model_train"
   ]
  },
  {
   "cell_type": "markdown",
   "id": "264c64e0-6d42-43fa-8662-30db6edc846d",
   "metadata": {
    "tags": []
   },
   "source": [
    "## Register a trained ML model\n",
    "\n",
    "After the training is complete, the `status training` command will show COMPLETED status. The trained ML model must be registered before it can be used for predictions. The `list trained-models` command will list all the trained models within a project. The `register model` command will register a trained model. The `list registered-models` will list all registered models within a project."
   ]
  },
  {
   "cell_type": "code",
   "execution_count": null,
   "id": "96ba25e6-2e65-4c22-8579-b4ad311a876a",
   "metadata": {
    "tags": []
   },
   "outputs": [],
   "source": [
    "list trained-models trip_fare_1_model"
   ]
  },
  {
   "cell_type": "code",
   "execution_count": null,
   "id": "322694fd-722e-4e6e-bc1f-879705d943b3",
   "metadata": {
    "tags": []
   },
   "outputs": [],
   "source": [
    "register model trip_fare_1_model,1,PRODUCTION"
   ]
  },
  {
   "cell_type": "code",
   "execution_count": null,
   "id": "560f2743-780b-4741-9be3-1188333783f5",
   "metadata": {
    "tags": []
   },
   "outputs": [],
   "source": [
    "list registered-models"
   ]
  },
  {
   "cell_type": "markdown",
   "id": "c510b4eb-2662-41f1-8436-78ad0008267b",
   "metadata": {
    "tags": []
   },
   "source": [
    "***\n",
    "\n",
    "# Serve an ML Model\n",
    "\n",
    "<html><img src=\"../../images/trip_fare_images/1_4.png\"/></html>\n",
    "\n",
    "In this step we will deploy a trained ML model to serve prediction requests. \n",
    "\n",
    "### Create a Foresight ML job file for model serving\n",
    "\n",
    "ML models are deployed via a Foresight ML job file which specifies the ML serving options. \n",
    "\n",
    "Create a Foresight ML job file using the registered-model version that you want to serve. \n",
    "\n",
    "The `create prediction` command takes 2 required parameters the registered-model name and the model version. The 'dir' parameter specifies the location where the generated files will be saved. The command will generate 3 files, a Foresight ML job file, a sources yaml and a sample curl command requests file. Refer to the Foresight User Manual for help.\n",
    "\n",
    "The sources yaml will contain definitions for two REST sources, one for the prediction REST request and one for the prediction REST response and a definition for the prediction log table.\n",
    "\n",
    "**In the command below, replace the version '1' with the version of the registered model you are using.**\n"
   ]
  },
  {
   "cell_type": "code",
   "execution_count": null,
   "id": "01ddd7a7-65e9-43e8-86fa-0c43ac0fc6bd",
   "metadata": {
    "tags": []
   },
   "outputs": [],
   "source": [
    "create prediction trip_fare_1_model,1,dir=trip_fare_prediction_model_1/"
   ]
  },
  {
   "cell_type": "markdown",
   "id": "ffdf6d5c-a0bd-4915-9ed5-f9f2a56f610f",
   "metadata": {},
   "source": [
    "***\n",
    "\n",
    "### Inspect the model serving files\n",
    "\n",
    "Inspect the model serving ML job file and the definitions for the prediction REST request, prediction REST response and the prediction log table.\n",
    "\n",
    "**Note: The generated files names have the model version number as shown below. In the commands below, replace the version '1' with the version of the registered model you are using.**\n",
    "\n",
    "    Example : <model name>_<version>_serve.ml , <model name>_<version>_sources.yml\n",
    "\n",
    "    "
   ]
  },
  {
   "cell_type": "code",
   "execution_count": null,
   "id": "a16da3d6-1af5-4ace-83d9-e6350248e444",
   "metadata": {
    "tags": []
   },
   "outputs": [],
   "source": [
    "!cat trip_fare_prediction_model_1/trip_fare_1_model_1_serve.ml"
   ]
  },
  {
   "cell_type": "code",
   "execution_count": null,
   "id": "a7e25b92-ada0-4a72-8b52-a319457e0782",
   "metadata": {
    "tags": []
   },
   "outputs": [],
   "source": [
    "!cat trip_fare_prediction_model_1/trip_fare_1_model_1_sources.yml"
   ]
  },
  {
   "cell_type": "markdown",
   "id": "696496ab-5c55-41d3-a12e-fd05fa6bfe55",
   "metadata": {
    "tags": []
   },
   "source": [
    "### Deploy the model\n",
    "\n",
    "Use the `start prediction` command to execute the Foresight ML job file to deploy a model. The `status prediction` command will show the status of the model serving. The url shown in the output is the endpoint to which REST prediction request may be sent via `curl` or some other means."
   ]
  },
  {
   "cell_type": "code",
   "execution_count": null,
   "id": "ccac28df-f7d2-4735-973a-5970e022e242",
   "metadata": {
    "tags": []
   },
   "outputs": [],
   "source": [
    "start prediction trip_fare_prediction_model_1/trip_fare_1_model_1_serve"
   ]
  },
  {
   "cell_type": "code",
   "execution_count": null,
   "id": "65b8bd8c-cf09-4e34-b9d7-6a26dcf76b29",
   "metadata": {
    "tags": []
   },
   "outputs": [],
   "source": [
    "status prediction trip_fare_1_model_1_serve"
   ]
  },
  {
   "cell_type": "markdown",
   "id": "135c7bda-0300-4d39-bf09-beb615d54031",
   "metadata": {
    "tags": []
   },
   "source": [
    "## Predict trip fare amounts\n",
    "\n",
    "Use the `test prediction` command to send prediction requests to the deployed model. The command by default uses the last 10 rows from the training dataset for prediction request data and sends curl requests to the deployed model. The predictions responses are collected and displayed.\n",
    "\n",
    "Refer to the Foresight User Manual for help."
   ]
  },
  {
   "cell_type": "markdown",
   "id": "7ee7f35a-43bb-4035-97ac-646209453106",
   "metadata": {},
   "source": [
    "Note: Once you run start prediction command, a prediction service starts running which is ready for serving. You can use the URL the prediction service gives you to send curl requests. Upon running the test prediction it also outputs the \"Example Curl Request\". Use this Curl request example to send data to predcition service or integrate the same into applications which where the predictions can be served."
   ]
  },
  {
   "cell_type": "code",
   "execution_count": null,
   "id": "8d95404a",
   "metadata": {
    "tags": []
   },
   "outputs": [],
   "source": [
    "test prediction trip_fare_1_model_1_serve"
   ]
  },
  {
   "cell_type": "markdown",
   "id": "1307dd24-795a-4b40-a7f8-a516ba878734",
   "metadata": {},
   "source": [
    "Below is a markdowncell which shows how to run the Curl Request to fetch predictions. Convert the cell into Code state and then enter the prediction URL in the space mentioned and execute the cell to get response."
   ]
  },
  {
   "cell_type": "markdown",
   "id": "477f1f1f-c9df-4f69-bdd6-d92d2d50a873",
   "metadata": {},
   "source": [
    "!curl -X GET \">enter the prediction URL here<\" -H \"Content-Type: application/json\" -d '[{\"rest_request_id\": \"prediction_test-1\", \"pickup_datetime\": \"2022-11-12 07:15:00\", \"pickup_zipcode\": \"10010\", \"dropoff_zipcode\": \"10011\", \"passenger_count\": 3}]'"
   ]
  },
  {
   "cell_type": "markdown",
   "id": "1e13a5f0-0e68-4329-a432-384d62ac18dc",
   "metadata": {},
   "source": [
    "### Stop the deployed model\n",
    "\n",
    "Use the `stop prediction` command to stop ML model serving when you have completed the prediction requests. This step is optional, you may choose to leave the model deployed."
   ]
  },
  {
   "cell_type": "code",
   "execution_count": null,
   "id": "252a5bfd-28ee-4c22-a5e7-5c641f2a801d",
   "metadata": {
    "tags": []
   },
   "outputs": [],
   "source": [
    "stop prediction trip_fare_1_model_1_serve"
   ]
  }
 ],
 "metadata": {
  "kernelspec": {
   "display_name": "Foresight",
   "language": "python",
   "name": "foresight"
  },
  "language_info": {
   "file_extension": ".py",
   "mimetype": "text/plain",
   "name": "python"
  }
 },
 "nbformat": 4,
 "nbformat_minor": 5
}
