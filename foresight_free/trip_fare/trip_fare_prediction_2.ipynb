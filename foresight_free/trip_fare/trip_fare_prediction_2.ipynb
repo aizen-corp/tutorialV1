{
 "cells": [
  {
   "attachments": {},
   "cell_type": "markdown",
   "id": "93f77938-7669-4c71-aabe-49ecd7316e2e",
   "metadata": {
    "tags": []
   },
   "source": [
    "***\n",
    "\n",
    "# Taxi Trip Fare Prediction - Model 2\n",
    "\n",
    "***\n",
    "\n",
    "The goal of this example is to build on the Model 1 example and generate a better ML model. We will\n",
    "- enhance the training dataset using contextual features\n",
    "- train an ML model based on historical taxi trip fare data and contextual features\n",
    "- serve the ML model to predict the trip fare for new trips\n",
    "\n",
    "### Prepare your data\n",
    "\n",
    "In the Model 1 example we used trip table from S3 bucket to use as training dataset. In this example we will use 3 more tables; hour_of_day_context, holiday_weekend_context and geo_area_context to enrich the data to and pass it model to better understand the context and provide better predictions.\n",
    "\n",
    "\n",
    "Let us look at the first few lines of the csv's which we will be going to use for building Model 2.\n",
    "\n",
    "##### hour_of_day_context.csv\n",
    "    hour_of_day,hourly_segment\n",
    "    0,early morning\n",
    "    1,early morning\n",
    "    2,early morning\n",
    "    3,early morning\n",
    "\n",
    "##### holiday_weekend_context.csv\n",
    "    calendar_day,is_holiday_or_weekend\n",
    "    2009-01-01,1\n",
    "    2009-01-02,0\n",
    "    2009-01-03,1\n",
    "    2009-01-04,1\n",
    "    \n",
    "##### geo_area_context.csv\n",
    "    zipcode,geo_area\n",
    "    10023,Commercial\n",
    "    10021,Residential\n",
    "    10002,Suburbs\n",
    "    11201,Commercial\n",
    "    \n",
    "### Static contextual feature data\n",
    "\n",
    "We will enhance the data by adding three contextual feature tables. \n",
    "\n",
    "- an hourly segment table that maps an hour to an hourly-segment. \n",
    "- a holiday weekend table that maps a date to a flag indicating whether that date was a holiday-or-weekend or neither.\n",
    "- a geo area table that maps a zipcode to a type of geo area.\n",
    "\n",
    "The idea is that the hourly-segment, the holiday-or-weekend flag and the type of pickup and dropoff geo areas have an influence on the trip fare amount. We can create a more accurate ML model with these additional features.\n",
    "\n",
    "Each contextual feature table is a csv file in S3 bucket containing the respective mapping."
   ]
  },
  {
   "cell_type": "markdown",
   "id": "161d7737",
   "metadata": {},
   "source": [
    "***\n",
    "\n",
    "**We will reuse the `trip_fare` project from Model 1 for this example.**"
   ]
  },
  {
   "cell_type": "code",
   "execution_count": null,
   "id": "5d7dabf3-4c67-4a7a-9ae4-9b7832c29bd1",
   "metadata": {
    "tags": []
   },
   "outputs": [],
   "source": [
    "set project trip_fare"
   ]
  },
  {
   "cell_type": "markdown",
   "id": "1664147e-01c5-4fd6-9ffe-1c1fffed8238",
   "metadata": {
    "tags": []
   },
   "source": [
    "***\n",
    "\n",
    "# Connect your Data Sources\n",
    "\n",
    "<html><img src=\"../../images/trip_fare_images/2_1.png\"/></html>\n",
    "\n",
    "In the Model 1 example we have connected the S3 bucket as a data source to Foresight for the trip table. Similarly in this step we will connect the S3 bucket as a data source to Foresight for the three contextual feature tables."
   ]
  },
  {
   "cell_type": "markdown",
   "id": "16f0afe6-4d93-4a30-91c2-f464486c1a75",
   "metadata": {
    "tags": []
   },
   "source": [
    "### Create a Foresight ML sources file\n",
    "\n",
    "Data sources are connected to Foresight via a Foresight ML sources file. In the Model 1 example we have created a Foresight ML sources file to connect the S3 bucket to the Foresight platform for the trip table. Create another Foresight ML sources file to add the three new contextual feature sources. Use the templates and code snippets available at the icons to the left. Refer to the Foresight User Manual for help.\n",
    "Alternatively you may use the Foresight ML sources file from this tutorial.\n",
    "\n",
    "<br> The relevant sections in the `trip_fare_2_data_sources.yml` file look like this:\n",
    "    \n",
    "            meta:\n",
    "              source_type: aws\n",
    "              source_format: csv\n",
    "              path: s3a://foresight-tutorial/trip_fare/<table_name>.csv         <<<<                \n",
    "              anon: true                                                              \n",
    "              infer_schema: true                                                      \n",
    "              header: true                                                            \n",
    "              delimiter: ','                                                          \n",
    "              s3_endpoint_url: https://foresight-tutorial.s3.us-west-2.amazonaws.com  \n",
    "              batch_schedule: -1d"
   ]
  },
  {
   "cell_type": "code",
   "execution_count": null,
   "id": "977e3b7f-280f-435f-912f-c26f11feccf3",
   "metadata": {
    "tags": []
   },
   "outputs": [],
   "source": [
    "!cat trip_fare_prediction_model_2/trip_fare_2_data_sources.yml"
   ]
  },
  {
   "cell_type": "markdown",
   "id": "6066afe9-cf7f-4ef5-a948-755ff6afbf16",
   "metadata": {},
   "source": [
    "#### Add column schema to your data sources file\n",
    "\n",
    "Foresight can automatically infer column schema from your data sources and update the ML sources file. Use the `add columns` command to automatically infer and update the ML sources file with the data source column schema. After this command completes, you must review the column schema for correctness and if necessary edit the ML sources file to fix column names or data types. Alternatively you may manually edit the ML sources file and add all the column names and data types to match your data source schema."
   ]
  },
  {
   "cell_type": "code",
   "execution_count": null,
   "id": "09d1f5de-35c2-4e16-8682-c6ed4d3934d1",
   "metadata": {
    "tags": []
   },
   "outputs": [],
   "source": [
    "add columns trip_fare_prediction_model_2/trip_fare_2_data_sources.yml"
   ]
  },
  {
   "cell_type": "code",
   "execution_count": null,
   "id": "ac2af91a-d437-4904-9cdc-a67bf89b4736",
   "metadata": {
    "tags": []
   },
   "outputs": [],
   "source": [
    "!cat trip_fare_prediction_model_2/trip_fare_2_data_sources.yml"
   ]
  },
  {
   "cell_type": "markdown",
   "id": "f8b0d9e7-cf1d-4426-9c8b-a54b34e98c80",
   "metadata": {
    "tags": []
   },
   "source": [
    "***\n",
    "\n",
    "# Create Feature Sets for contextual features\n",
    "\n",
    "<html><img src=\"../../images/trip_fare_images/2_2.png\"/></html>\n",
    "\n",
    "In this step we will create three feature sets to generate and store the contextual feature tables in Foresight storage based on the three csv data sources. \n",
    "\n",
    "### Create Foresight ML job files to generate feature sets\n",
    "\n",
    "The feature sets will be created using Foresight ML job files. The `using_foresight_options` section of the Foresight ML job file is where you specify the key entities for each feature set. Key entities indicate row uniqueness within a table, and they are used to lookup the contextual feature. Create Foresight ML job files using the templates and code snippets available at the icons to the left. Refer to the Foresight User Manual for help."
   ]
  },
  {
   "cell_type": "code",
   "execution_count": null,
   "id": "abe6de03-a88b-4df2-865f-a4d172ab8ec0",
   "metadata": {
    "tags": []
   },
   "outputs": [],
   "source": [
    "!cat trip_fare_prediction_model_2/hour_of_day_context.ml"
   ]
  },
  {
   "cell_type": "code",
   "execution_count": null,
   "id": "0319d997-5b63-4b4e-b671-60821539b771",
   "metadata": {
    "tags": []
   },
   "outputs": [],
   "source": [
    "!cat trip_fare_prediction_model_2/holiday_weekend_context.ml"
   ]
  },
  {
   "cell_type": "code",
   "execution_count": null,
   "id": "ea5132e2-84eb-44a7-8cfe-412d56f38873",
   "metadata": {
    "tags": []
   },
   "outputs": [],
   "source": [
    "!cat trip_fare_prediction_model_2/geo_area_context.ml"
   ]
  },
  {
   "cell_type": "markdown",
   "id": "3625c187-b52a-42ca-a1b1-f81e81af0070",
   "metadata": {
    "tags": []
   },
   "source": [
    "### Create feature sets\n",
    "\n",
    "Use the `start featureset` command to execute the Foresight ML job file to create the feature set. This command will start a job that creates the feature set tables within Foresight, and inserts data into the Foresight tables from the data source. The job continues to run until all the data has been fetched. The `status featureset` command will show the status of the feature set.\n"
   ]
  },
  {
   "cell_type": "code",
   "execution_count": null,
   "id": "6fb00fcc-ca17-41c4-a690-639f54846662",
   "metadata": {
    "tags": []
   },
   "outputs": [],
   "source": [
    "start featureset trip_fare_prediction_model_2/hour_of_day_context"
   ]
  },
  {
   "cell_type": "code",
   "execution_count": null,
   "id": "2ddeca1d-62f1-40d3-82b9-2b92e3fbc783",
   "metadata": {
    "tags": []
   },
   "outputs": [],
   "source": [
    "start featureset trip_fare_prediction_model_2/holiday_weekend_context"
   ]
  },
  {
   "cell_type": "code",
   "execution_count": null,
   "id": "e400823b-be05-478f-af1b-d009375702fb",
   "metadata": {
    "tags": []
   },
   "outputs": [],
   "source": [
    "start featureset trip_fare_prediction_model_2/geo_area_context"
   ]
  },
  {
   "cell_type": "code",
   "execution_count": null,
   "id": "b5194775-d4ad-4982-8a12-a9d7bc02a0e0",
   "metadata": {
    "tags": []
   },
   "outputs": [],
   "source": [
    "status featureset hour_of_day_context"
   ]
  },
  {
   "cell_type": "code",
   "execution_count": null,
   "id": "2b2f246a-49fc-499f-8932-b889552ec8cf",
   "metadata": {
    "tags": []
   },
   "outputs": [],
   "source": [
    "status featureset holiday_weekend_context"
   ]
  },
  {
   "cell_type": "code",
   "execution_count": null,
   "id": "eb27fd0e-7ddc-41df-b856-3f388d4fbded",
   "metadata": {
    "tags": []
   },
   "outputs": [],
   "source": [
    "status featureset geo_area_context"
   ]
  },
  {
   "cell_type": "code",
   "execution_count": null,
   "id": "f21eb0b3",
   "metadata": {},
   "outputs": [],
   "source": [
    "display featureset hour_of_day_context"
   ]
  },
  {
   "cell_type": "code",
   "execution_count": null,
   "id": "e6469e5e",
   "metadata": {},
   "outputs": [],
   "source": [
    "display featureset holiday_weekend_context"
   ]
  },
  {
   "cell_type": "code",
   "execution_count": null,
   "id": "3327c2b7",
   "metadata": {},
   "outputs": [],
   "source": [
    "display featureset geo_area_context"
   ]
  },
  {
   "cell_type": "markdown",
   "id": "54851315-21ef-4264-9999-a14686f07bfd",
   "metadata": {
    "tags": []
   },
   "source": [
    "***\n",
    "\n",
    "# Create a Feature View to serve contextual features\n",
    "\n",
    "<html><img src=\"../../images/trip_fare_images/2_3.png\"/></html>\n",
    "\n",
    "In this step we will create a feature view to serve four contextual features from the three feature sets that we created in internal Foresight storage. The feature view will output the following contextual features\n",
    "- the hourly_segment for a given hour of day\n",
    "- the holiday_or_weekend flag for a given date\n",
    "- the pickup_geo_area for a given pickup zipcode\n",
    "- the dropoff_geo_area for a given dropoff zipcode\n",
    "\n",
    "### Create a Foresight ML job file to generate a feature view\n",
    "\n",
    "The feature view will be created using a Foresight ML job file. The `using_foresight_options` section of the Foresight ML job file is where you specify the feature name and source for the feature. Create a Foresight ML job file using the templates and code snippets available at the icons to the left. Refer to the Foresight User Manual for help. Make sure to update the models section of your Foresight ML job sources file as well."
   ]
  },
  {
   "cell_type": "code",
   "execution_count": null,
   "id": "d8368d02-d5ec-4525-94f4-00f3f8db6d15",
   "metadata": {
    "tags": []
   },
   "outputs": [],
   "source": [
    "!cat trip_fare_prediction_model_2/trip_fare_2_feature_view.ml"
   ]
  },
  {
   "cell_type": "markdown",
   "id": "19619eb6-ec12-48e3-a186-fb38def94d7d",
   "metadata": {
    "tags": []
   },
   "source": [
    "### Start serving contextual features\n",
    "\n",
    "Use the `start featureview` command to execute the Foresight ML job file to start serving contextual features for the feature view. This command starts a job to serve the feature view. Use the `offline` option to serve features for training dataset creation and the `online` option to serve features for prediction. \n",
    "\n",
    "The `status featureview` command will show the status of the feature view. The *`feature_status`* element indicates the availability of feature data. A feature status of \"OK\" indicates that feature data is available."
   ]
  },
  {
   "cell_type": "code",
   "execution_count": null,
   "id": "91ddd220-1673-453f-ae6f-5dbe5f76269f",
   "metadata": {
    "tags": []
   },
   "outputs": [],
   "source": [
    "start featureview trip_fare_prediction_model_2/trip_fare_2_feature_view,offline"
   ]
  },
  {
   "cell_type": "code",
   "execution_count": null,
   "id": "6bff9239-019a-4655-aaa9-c9c24ceff24b",
   "metadata": {
    "tags": []
   },
   "outputs": [],
   "source": [
    "start featureview trip_fare_prediction_model_2/trip_fare_2_feature_view,online"
   ]
  },
  {
   "cell_type": "code",
   "execution_count": null,
   "id": "347f1ba8-bff2-4092-96b3-622af6b7a369",
   "metadata": {
    "tags": []
   },
   "outputs": [],
   "source": [
    "status featureview trip_fare_2_feature_view,offline"
   ]
  },
  {
   "cell_type": "code",
   "execution_count": null,
   "id": "25a2966c-3dc1-4608-a6fa-5c8ca2fb20fe",
   "metadata": {
    "tags": []
   },
   "outputs": [],
   "source": [
    "status featureview trip_fare_2_feature_view,online"
   ]
  },
  {
   "cell_type": "markdown",
   "id": "e75e5d1e-d9db-4a76-8695-12edb92848a6",
   "metadata": {
    "tags": []
   },
   "source": [
    "***\n",
    "\n",
    "# Create a Training Dataset\n",
    "\n",
    "<html><img src=\"../../images/trip_fare_images/2_4.png\"/></html>\n",
    "\n",
    "In this step we will create a training dataset using the trip table data source and the contextual features. We will use the pickup_zipcode, dropoff_zipcode and passenger_count as input features to the ML model. We will use the ***contextual_feature_fetch*** UDF to fetch the the hourly_segment, the is_holiday_or_weekend flag, the pickup_geo_area and the dropoff_geo_area from the feature view and use those as additional inputs to the ML model. The fare_amount will be the target or label for the ML model to train. \n",
    "\n",
    "### Create a Foresight ML job file to generate a training dataset\n",
    "\n",
    "The training dataset will be created using a SQL command. SQL commands can be executed via Foresight ML job files. Create a Foresight ML job file using the templates and code snippets available at the icons to the left. Refer to the Foresight User Manual for help."
   ]
  },
  {
   "cell_type": "code",
   "execution_count": null,
   "id": "2349d4a3-a439-4eb8-9c84-83a5f3615001",
   "metadata": {
    "tags": []
   },
   "outputs": [],
   "source": [
    "!cat trip_fare_prediction_model_2/trip_fare_2_train_dataset.ml"
   ]
  },
  {
   "attachments": {},
   "cell_type": "markdown",
   "id": "350c9e01-ffb1-4b3f-9930-e14948ac272d",
   "metadata": {
    "tags": []
   },
   "source": [
    "### Create the dataset\n",
    "\n",
    "Use the `start dataset` command to execute the Foresight ML job file to create the training dataset.The `status dataset` command will show the current status of dataset generation; \"RUNNING\", \"COMPLETED\" or \"ERROR\". The `list datasets` command will list the created datasets within a project. The `display dataset` command will display the first few rows of the training dataset.\n",
    "\n",
    "**This command may take up to 10 minutes due to the size of the dataset.**"
   ]
  },
  {
   "cell_type": "code",
   "execution_count": null,
   "id": "94f111f8-f5a2-456d-bda9-d2d847f94ce4",
   "metadata": {
    "tags": []
   },
   "outputs": [],
   "source": [
    "start dataset trip_fare_prediction_model_2/trip_fare_2_train_dataset"
   ]
  },
  {
   "cell_type": "code",
   "execution_count": null,
   "id": "da3cb7b8",
   "metadata": {},
   "outputs": [],
   "source": [
    "status dataset trip_fare_2_train_dataset"
   ]
  },
  {
   "cell_type": "code",
   "execution_count": null,
   "id": "6740aeed-884e-4d2f-a01b-2fac41f7748a",
   "metadata": {
    "tags": []
   },
   "outputs": [],
   "source": [
    "list datasets"
   ]
  },
  {
   "cell_type": "code",
   "execution_count": null,
   "id": "2eacdcf3-0d4d-49ee-9602-8d71edb477fb",
   "metadata": {
    "tags": []
   },
   "outputs": [],
   "source": [
    "display dataset trip_fare_2_train_dataset"
   ]
  },
  {
   "cell_type": "markdown",
   "id": "2d20eae0-9027-4a1a-a225-041328c49443",
   "metadata": {
    "tags": []
   },
   "source": [
    "***\n",
    "\n",
    "# Train an ML Model\n",
    "\n",
    "<html><img src=\"../../images/trip_fare_images/2_5.png\"/></html>\n",
    "\n",
    "In this step we will train an ML model using the training dataset that was created. We will use the pickup_zipcode, dropoff_zipcode, passenger_count, hourly_segment, is_holiday_or_weekend, pickup_geo_area and dropoff_geo_area as input features to the ML model. The fare_amount will be the target or label for the ML model to train. \n",
    "\n",
    "### Create a Foresight ML job file for model training\n",
    "\n",
    "ML model training is initiated via a Foresight ML job file which specifies the ML training parameters. Create a Foresight ML job file using the templates and code snippets available at the icons to the left. Refer to the Foresight User Manual for help."
   ]
  },
  {
   "cell_type": "markdown",
   "id": "32b9f142-b9be-4d7e-b5bf-7daa57ef2ae5",
   "metadata": {},
   "source": [
    "#### Note:\n",
    "The training job file here is very similar to the job file we used previously to train the model, only additional things added are the three new features; hourly_segment, is_holiday_or_weekend, pickup_geo_area and dropoff_geo_area"
   ]
  },
  {
   "cell_type": "code",
   "execution_count": null,
   "id": "e7f28c5d-6ed0-4174-a685-7a65f1d5a9db",
   "metadata": {
    "tags": []
   },
   "outputs": [],
   "source": [
    "!cat trip_fare_prediction_model_2/trip_fare_2_model_train.ml"
   ]
  },
  {
   "cell_type": "markdown",
   "id": "51aba791-a8ab-4372-a9ab-f5f5179afc33",
   "metadata": {
    "tags": []
   },
   "source": [
    "### Start ML model training\n",
    "\n",
    "Use the `start training` command to execute the Foresight ML job file to start the model training. The `status training` command will show the status of the model training. "
   ]
  },
  {
   "cell_type": "code",
   "execution_count": null,
   "id": "dbfcd1f5-f6d3-40ea-ad6b-354b6ade890f",
   "metadata": {
    "tags": []
   },
   "outputs": [],
   "source": [
    "start training trip_fare_prediction_model_2/trip_fare_2_model_train"
   ]
  },
  {
   "cell_type": "markdown",
   "id": "e1f11cfb-c660-44ce-aa49-a2c5738cf340",
   "metadata": {
    "tags": []
   },
   "source": [
    "#### Wait for ML model training to complete\n",
    "\n",
    "Use the `status training` command to check the status of the model training. Wait for the ML model training status to complete. \n",
    "\n",
    "**Training could take 10 minutes or more to complete.**"
   ]
  },
  {
   "cell_type": "markdown",
   "id": "2f825f91-2a95-46ac-b750-e88f287cc025",
   "metadata": {},
   "source": [
    "**Click the url shown in the output of status to open a *ML-Flow* session that displays the training metrics.**"
   ]
  },
  {
   "cell_type": "code",
   "execution_count": null,
   "id": "af65730c-34c6-4ffc-91d8-070e1ae5de3d",
   "metadata": {
    "tags": []
   },
   "outputs": [],
   "source": [
    "status training trip_fare_2_model_train"
   ]
  },
  {
   "cell_type": "markdown",
   "id": "264c64e0-6d42-43fa-8662-30db6edc846d",
   "metadata": {
    "tags": []
   },
   "source": [
    "## Register a trained ML model\n",
    "\n",
    "After the training is complete, the `status training` command will show COMPLETED status. The trained ML model must be registered before it can be used for predictions. The `list trained-models` command will list all the trained models within a project. The `register model` command will register a trained model. The `list registered-models` will list all registered models within a project."
   ]
  },
  {
   "cell_type": "code",
   "execution_count": null,
   "id": "1710eb38-00dc-49f7-85d5-b467a4fcd4dd",
   "metadata": {
    "tags": []
   },
   "outputs": [],
   "source": [
    "list trained-models trip_fare_2_model"
   ]
  },
  {
   "cell_type": "code",
   "execution_count": null,
   "id": "322694fd-722e-4e6e-bc1f-879705d943b3",
   "metadata": {
    "tags": []
   },
   "outputs": [],
   "source": [
    "register model trip_fare_2_model,1,PRODUCTION"
   ]
  },
  {
   "cell_type": "code",
   "execution_count": null,
   "id": "560f2743-780b-4741-9be3-1188333783f5",
   "metadata": {
    "tags": []
   },
   "outputs": [],
   "source": [
    "list registered-models"
   ]
  },
  {
   "cell_type": "markdown",
   "id": "c510b4eb-2662-41f1-8436-78ad0008267b",
   "metadata": {
    "tags": []
   },
   "source": [
    "***\n",
    "\n",
    "# Serve an ML Model\n",
    "\n",
    "<html><img src=\"../../images/trip_fare_images/2_6.png\"/></html>\n",
    "\n",
    "In this step we will deploy the trained ML model to serve prediction requests. \n",
    "\n",
    "### Create a Foresight ML job file for model serving\n",
    "\n",
    "ML models are deployed via a Foresight ML job file which specifies the ML serving options. \n",
    "\n",
    "Create a Foresight ML job file using the registered-model version that you want to serve. \n",
    "\n",
    "The `create prediction` command takes 2 required parameters the registered-model name and the model version. The 'dir' parameter specifies the location where the generated files will be saved. The command will generate 3 files, a Foresight ML job file, a sources yaml and a sample curl command requests file. Refer to the Foresight User Manual for help.\n",
    "\n",
    "The sources yaml will contain definitions for two REST sources, one for the prediction REST request and one for the prediction REST response and a definition for the prediction log table.\n",
    "\n",
    "**In the command below, replace the version '1' with the version of the registered model you are using.**"
   ]
  },
  {
   "cell_type": "code",
   "execution_count": null,
   "id": "c3e141e3-2a4c-47e8-a624-63e93f9f35ad",
   "metadata": {
    "tags": []
   },
   "outputs": [],
   "source": [
    "create prediction trip_fare_2_model,1,dir=trip_fare_prediction_model_2/"
   ]
  },
  {
   "cell_type": "markdown",
   "id": "b6d8d3a8-e56d-4210-9f62-bf1201d59828",
   "metadata": {},
   "source": [
    "***\n",
    "\n",
    "### Inspect the model serving files\n",
    "\n",
    "Inspect the model serving ML job file and the definitions for the prediction REST request, prediction REST response and the prediction log table.\n",
    "\n",
    "**Note: The generated files names have the model version number as shown below. In the commands below, replace the version '1' with the version of the registered model you are using.**\n",
    "\n",
    "    Example : <model name>_<version>_serve.ml , <model name>_<version>_sources.yml"
   ]
  },
  {
   "cell_type": "code",
   "execution_count": null,
   "id": "a16da3d6-1af5-4ace-83d9-e6350248e444",
   "metadata": {
    "tags": []
   },
   "outputs": [],
   "source": [
    "!cat trip_fare_prediction_model_2/trip_fare_2_model_1_serve.ml"
   ]
  },
  {
   "cell_type": "code",
   "execution_count": null,
   "id": "68c7a144-1406-456a-ad5f-e5496b52d91d",
   "metadata": {
    "tags": []
   },
   "outputs": [],
   "source": [
    "!cat trip_fare_prediction_model_2/trip_fare_2_model_1_sources.yml"
   ]
  },
  {
   "cell_type": "markdown",
   "id": "696496ab-5c55-41d3-a12e-fd05fa6bfe55",
   "metadata": {
    "tags": []
   },
   "source": [
    "### Deploy the model\n",
    "\n",
    "Use the `start prediction` command to execute the Foresight ML job file to deploy a model. The `status prediction` command will show the status of the model serving. The url shown in the output is the endpoint to which REST prediction request may be sent via `curl` or some other means."
   ]
  },
  {
   "cell_type": "code",
   "execution_count": null,
   "id": "ccac28df-f7d2-4735-973a-5970e022e242",
   "metadata": {
    "tags": []
   },
   "outputs": [],
   "source": [
    "start prediction trip_fare_prediction_model_2/trip_fare_2_model_1_serve"
   ]
  },
  {
   "cell_type": "code",
   "execution_count": null,
   "id": "65b8bd8c-cf09-4e34-b9d7-6a26dcf76b29",
   "metadata": {
    "tags": []
   },
   "outputs": [],
   "source": [
    "status prediction trip_fare_2_model_1_serve"
   ]
  },
  {
   "cell_type": "markdown",
   "id": "135c7bda-0300-4d39-bf09-beb615d54031",
   "metadata": {
    "tags": []
   },
   "source": [
    "### Predict trip fare amounts\n",
    "\n",
    "Use the `test prediction` command to send prediction requests to the deployed model. The command by default uses the last 10 rows for basis data from the training dataset and sends curl requests to the deployed model. The predictions responses are collected and displayed.\n",
    "\n",
    "Refer to the Foresight User Manual for help."
   ]
  },
  {
   "cell_type": "markdown",
   "id": "c5717420-0bc6-441e-a23e-10ece76cad47",
   "metadata": {},
   "source": [
    "Note: Once you run start prediction command, a prediction service starts running which is ready for serving. You can use the URL the prediction service gives you to send curl requests. Upon running the test prediction it also outputs the \"Example Curl Request\". Use this Curl request example to send data to predcition service or integrate the same into applications which where the predictions can be served."
   ]
  },
  {
   "cell_type": "code",
   "execution_count": null,
   "id": "ec1b59ed-f884-455a-b970-dd877bb0ab33",
   "metadata": {
    "tags": []
   },
   "outputs": [],
   "source": [
    "test prediction trip_fare_2_model_1_serve"
   ]
  },
  {
   "cell_type": "markdown",
   "id": "7a8f203d-c1f6-4604-9b26-e6b0659ef912",
   "metadata": {},
   "source": [
    "Below is a markdowncell which shows how to run the Curl Request to fetch predictions. Convert the cell into Code state and then enter the prediction URL in the space mentioned and execute the cell to get response."
   ]
  },
  {
   "attachments": {},
   "cell_type": "markdown",
   "id": "9c31e8fd-4a8f-4a40-939b-ef1e3d7f4538",
   "metadata": {
    "jupyter": {
     "outputs_hidden": true
    },
    "tags": []
   },
   "source": [
    "!curl -X GET \">enter the prediction URL here<\" -H \"Content-Type: application/json\" -d '[{\"rest_request_id\": \"prediction_test-1\", \"pickup_datetime\": \"2022-11-12 11:29:05\", \"pickup_zipcode\": \"10069\", \"dropoff_zipcode\": \"10107\", \"passenger_count\": 3}]'"
   ]
  },
  {
   "cell_type": "markdown",
   "id": "6a9cc243-2391-4169-b881-83f4c80137a1",
   "metadata": {
    "tags": []
   },
   "source": [
    "### Stop the deployed model\n",
    "\n",
    "Use the `stop prediction` command to stop ML model serving when you have completed the prediction requests. This step is optional, you may choose to leave the model deployed."
   ]
  },
  {
   "cell_type": "code",
   "execution_count": null,
   "id": "5b7768ae-f0e7-47a5-ba1f-1907aac83153",
   "metadata": {
    "tags": []
   },
   "outputs": [],
   "source": [
    "stop prediction trip_fare_2_model_1_serve"
   ]
  }
 ],
 "metadata": {
  "kernelspec": {
   "display_name": "Foresight",
   "language": "python",
   "name": "foresight"
  },
  "language_info": {
   "file_extension": ".py",
   "mimetype": "text/plain",
   "name": "python"
  }
 },
 "nbformat": 4,
 "nbformat_minor": 5
}
